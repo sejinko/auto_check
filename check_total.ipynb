{
 "cells": [
  {
   "cell_type": "code",
   "execution_count": 1,
   "metadata": {},
   "outputs": [],
   "source": [
    "import numpy as np\n",
    "import pandas as pd\n",
    "import openpyxl\n",
    "from openpyxl.styles import Font, Alignment, PatternFill, Color, Border, Side\n",
    "\n",
    "import warnings\n",
    "warnings.filterwarnings('ignore')"
   ]
  },
  {
   "cell_type": "markdown",
   "metadata": {},
   "source": [
    "1. title 시트에 title format 컬럼 생각해서 다시 만들어야 함\n"
   ]
  },
  {
   "cell_type": "markdown",
   "metadata": {},
   "source": [
    "## 경로지정"
   ]
  },
  {
   "cell_type": "code",
   "execution_count": 2,
   "metadata": {},
   "outputs": [],
   "source": [
    "raw_address = 'F:/OneDrive/3. 검수/1. 상반기 국가별 검수 Raw'\n",
    "final_address = 'F:/OneDrive/3. 검수/Kia.com(국가) SEO Audit_200403.xlsx'\n",
    "countrys = ['Pakistan(PK)']\n",
    "as_countrys = ['pk']"
   ]
  },
  {
   "cell_type": "markdown",
   "metadata": {},
   "source": [
    "## 1. internal_all 전처리 - 검수 URL 생성"
   ]
  },
  {
   "cell_type": "code",
   "execution_count": 3,
   "metadata": {},
   "outputs": [],
   "source": [
    "# for country, as_country in zip(countrys, as_countrys):\n",
    "#     # 데이터 불러오기\n",
    "#     check_url = pd.read_excel(raw_address+'/'+country+'/Raw/internal_all.xlsx', sheet_name='1 - All')\n",
    "    \n",
    "#     # 데이터 가공\n",
    "#     check_url_1 = check_url['Address'].str.contains('www.kia.com/'+as_country+'/')\n",
    "#     response_url = check_url[check_url_1 == True]\n",
    "#     response_url.sort_values(by=['Status Code'],ascending=False, inplace=True) # response 완료\n",
    "    \n",
    "    \n",
    "#     checked_url_2 = response_url[response_url['Status Code'] != '404']\n",
    "\n",
    "    \n",
    "    \n",
    "    \n",
    "    \n",
    "    \n",
    "    \n",
    "# #     Non_indexable_url = checked_url_2['Indexability'] == 'Non-Indexable'\n",
    "# #     Non_indexable_url = checked_url_2[Non_indexable_url] # Non_indexable 완료\n",
    "    \n",
    "    "
   ]
  },
  {
   "cell_type": "code",
   "execution_count": null,
   "metadata": {},
   "outputs": [],
   "source": []
  },
  {
   "cell_type": "code",
   "execution_count": 4,
   "metadata": {},
   "outputs": [
    {
     "ename": "SyntaxError",
     "evalue": "'break' outside loop (<ipython-input-4-d9083f194a30>, line 42)",
     "output_type": "error",
     "traceback": [
      "\u001b[1;36m  File \u001b[1;32m\"<ipython-input-4-d9083f194a30>\"\u001b[1;36m, line \u001b[1;32m42\u001b[0m\n\u001b[1;33m    else:\u001b[0m\n\u001b[1;37m         \n^\u001b[0m\n\u001b[1;31mSyntaxError\u001b[0m\u001b[1;31m:\u001b[0m 'break' outside loop\n"
     ]
    }
   ],
   "source": [
    "# # redirect 부분 편집해야 함\n",
    "\n",
    "# address_url_2 = []\n",
    "# address_url_3 = []\n",
    "# address_url_4 = []\n",
    "# address_url_5 = []\n",
    "\n",
    "# if any(checked_url_2['Redirect URL'].notnull() == True):\n",
    "#     redirect_url_1 = checked_url_2['Redirect URL'][checked_url_2['Redirect URL'].notnull() == True]\n",
    "#     for url in redirect_url_1:\n",
    "#         redirect_url_1_address = checked_url_2[url == checked_url_2['Address']]\n",
    "#         if redirect_url_1_address['Status Code'].item() == 200:\n",
    "#             print('ok')\n",
    "#         else:\n",
    "#             address_url_2.append(url)\n",
    "#     if any(checked_url_2['Address'].isin(address_url_2) == True): \n",
    "#         redirect_url_2 = checked_url_2['Redirect URL'][checked_url_2['Address'].isin(address_url_2) == True]\n",
    "#         for url in redirect_url_2:\n",
    "#             redirect_url_2_address = checked_url_2[url == checked_url_2['Address']]\n",
    "#             if redirect_url_2_address['Status Code'].item() == 200:\n",
    "#                 print('ok')\n",
    "#             else:\n",
    "#                 address_url_3.append(url)\n",
    "#         if any(checked_url_2['Address'].isin(address_url_3) == True): \n",
    "#             redirect_url_3 = checked_url_2['Redirect URL'][checked_url_2['Address'].isin(address_url_3) == True]\n",
    "#             for url in redirect_url_3:\n",
    "#                 redirect_url_3_address = checked_url_2[url == checked_url_2['Address']]\n",
    "#                 if redirect_url_3_address['Status Code'].item() == 200:\n",
    "#                     print('ok')\n",
    "#                 else:\n",
    "#                     address_url_4.append(url)\n",
    "#             if any(checked_url_2['Address'].isin(address_url_4) == True):\n",
    "#                 redirect_url_4 = checked_url_2['Redirect URL'][checked_url_2['Address'].isin(address_url_4) == True]\n",
    "#                 for url in redirect_url_4:\n",
    "#                     redirect_url_4_address = checked_url_2[url == checked_url_2['Address']]\n",
    "#                     if redirect_url_4_address['Status Code'].item() == 200:\n",
    "#                         print('ok')\n",
    "#                     else:\n",
    "#                         address_url_5.append(url)\n",
    "#             else:\n",
    "#                 break\n",
    "#         else:\n",
    "#             break         \n",
    "#     else:\n",
    "#         break\n",
    "# else:\n",
    "#     break"
   ]
  },
  {
   "cell_type": "markdown",
   "metadata": {},
   "source": [
    "## 1. Title DataFrame"
   ]
  },
  {
   "cell_type": "code",
   "execution_count": 29,
   "metadata": {},
   "outputs": [
    {
     "name": "stdout",
     "output_type": "stream",
     "text": [
      "1 . Pakistan(PK) 나라의 1. itle DataFrame 이 완료되었습니다..\n"
     ]
    }
   ],
   "source": [
    "count_num = 0\n",
    "\n",
    "for country, as_country in zip(countrys, as_countrys):\n",
    "    # 데이터 불러오기\n",
    "    internal_df = pd.read_excel(raw_address+'/'+country+'/Raw/internal_all.xlsx', sheet_name='검수 URL')\n",
    "    \n",
    "    # 오름차순 정룔\n",
    "    internal_df = internal_df.sort_values(by='Address', ascending=True)\n",
    "\n",
    "    # 컬럼 불러오기\n",
    "    title_df = internal_df[['Address', 'Title 1', 'Title 1 Length']]\n",
    "\n",
    "    # 오름차순 정렬\n",
    "    title_df = title_df.sort_values(by='Address', ascending=True)\n",
    "\n",
    "    # Exist 컬럼\n",
    "    title_df['Exist'] = title_df['Title 1']\n",
    "    \n",
    "    title_df['Exist'].loc[title_df['Exist'].isnull() == False] = 'O'\n",
    "    title_df['Exist'].loc[title_df['Exist'].isnull() == True] = 'X'\n",
    "\n",
    "    # Length Suitability 컬럼\n",
    "    title_df['Length Suitability'] = title_df['Title 1 Length']\n",
    "\n",
    "    title_df['Length Suitability'].loc[title_df['Length Suitability'] < 29] = 0\n",
    "    title_df['Length Suitability'].loc[title_df['Length Suitability'] > 29] = 1\n",
    "\n",
    "    title_df['Length Suitability'].replace(0, 'X', inplace=True)\n",
    "    title_df['Length Suitability'].replace(1, 'O', inplace=True)\n",
    "    \n",
    "    # Whether it is an adequate scope or not 컬럼\n",
    "    title_df['Whether it is an adequate scope or not'] = title_df['Title 1 Length']\n",
    "\n",
    "    title_df['Whether it is an adequate scope or not'][title_df['Whether it is an adequate scope or not'] == 0] = 0\n",
    "    title_df['Whether it is an adequate scope or not'][(title_df['Whether it is an adequate scope or not'] > 0) &\n",
    "                                                       (title_df['Whether it is an adequate scope or not'] < 30)] = 1\n",
    "    title_df['Whether it is an adequate scope or not'][(title_df['Whether it is an adequate scope or not'] >= 30) &\n",
    "                                                       (title_df['Whether it is an adequate scope or not'] <= 70)] = 2\n",
    "    title_df['Whether it is an adequate scope or not'][title_df['Whether it is an adequate scope or not'] > 70] = 3\n",
    "\n",
    "    title_df['Whether it is an adequate scope or not'].replace(0, 'Title Tag Not Set', inplace=True)\n",
    "    title_df['Whether it is an adequate scope or not'].replace(1, 'Too Short(Under 30 Characters)', inplace=True)\n",
    "    title_df['Whether it is an adequate scope or not'].replace(2, 'Suitable', inplace=True)\n",
    "    title_df['Whether it is an adequate scope or not'].replace(3, 'Caution : Over 70 Characters', inplace=True)\n",
    "    \n",
    "    # Duplication 컬럼\n",
    "    title_df['Duplication'] = title_df['Title 1']\n",
    "\n",
    "    title_df['Duplication'][title_df['Duplication'].duplicated(keep=False) == True] = 'Duplication'\n",
    "    title_df['Duplication'][title_df['Duplication'].duplicated(keep=False) == False] = ''\n",
    "    \n",
    "    # main 페이지가 Kia Motos Kuwait 인지 Kia Kuwait인지에 따라 결정됨 뒤에오든 앞에오든 상관 없음\n",
    "\n",
    "    # Title Format\n",
    "    title_df['Title Format'] = title_df['Title 1']\n",
    "\n",
    "    title_df['Title Format'][title_df['Title Format'].str.contains('kia') == False] = 'Format Check Required'\n",
    "    title_df['Title Format'][title_df['Title Format'].str.contains('kia') == True] = ''\n",
    "    \n",
    "    # 저장\n",
    "    title_df.to_excel(raw_address+'/'+country+'/dataframe.xlsx', sheet_name = '1.Title', engine='openpyxl',\n",
    "                      index=False)\n",
    "    \n",
    "    # 결과\n",
    "    count_num += 1\n",
    "    print(count_num,'. {} 나라의 1. itle DataFrame 이 완료되었습니다..'.format(country))"
   ]
  },
  {
   "cell_type": "markdown",
   "metadata": {},
   "source": [
    "## 2. Meta Description DataFrame"
   ]
  },
  {
   "cell_type": "code",
   "execution_count": 30,
   "metadata": {},
   "outputs": [
    {
     "name": "stdout",
     "output_type": "stream",
     "text": [
      "1 . Pakistan(PK) 나라의 2. Meta Description DataFrame 이 완료되었습니다..\n"
     ]
    }
   ],
   "source": [
    "count_num = 0\n",
    "\n",
    "for country, as_country in zip(countrys, as_countrys):\n",
    "    # 데이터 불러오기\n",
    "    internal_df = pd.read_excel(raw_address+'/'+country+'/Raw/internal_all.xlsx', sheet_name='검수 URL')\n",
    "    \n",
    "    # 오름차순 정룔\n",
    "    internal_df = internal_df.sort_values(by='Address', ascending=True)\n",
    "    \n",
    "    # 컬럼 불러오기\n",
    "    desc_df = internal_df[['Address', 'Meta Description 1', 'Meta Description 1 Length']]\n",
    "    \n",
    "    # Exist 컬럼\n",
    "    desc_df['Exist'] = desc_df['Meta Description 1']\n",
    "\n",
    "    desc_df['Exist'].loc[desc_df['Exist'].isnull() == False] = 'O'\n",
    "    desc_df['Exist'].loc[desc_df['Exist'].isnull() == True] = 'X'\n",
    "    \n",
    "    # Length Suitability 컬럼\n",
    "    desc_df['Length Suitability'] = desc_df['Meta Description 1 Length']\n",
    "\n",
    "    desc_df['Length Suitability'].loc[desc_df['Length Suitability'] < 99] = 0\n",
    "    desc_df['Length Suitability'].loc[desc_df['Length Suitability'] > 99] = 1\n",
    "\n",
    "    desc_df['Length Suitability'].replace(0, 'X', inplace=True)\n",
    "    desc_df['Length Suitability'].replace(1, 'O', inplace=True)\n",
    "    \n",
    "    # Whether it is an adequate scope or not 컬럼\n",
    "    desc_df['Whether it is an adequate scope or not'] = desc_df['Meta Description 1 Length']\n",
    "\n",
    "    desc_df['Whether it is an adequate scope or not'][desc_df['Whether it is an adequate scope or not'] == 0] = 0\n",
    "    desc_df['Whether it is an adequate scope or not'][(desc_df['Whether it is an adequate scope or not'] > 0) &\n",
    "                                                       (desc_df['Whether it is an adequate scope or not'] < 100)] = 1\n",
    "    desc_df['Whether it is an adequate scope or not'][(desc_df['Whether it is an adequate scope or not'] >= 100) &\n",
    "                                                       (desc_df['Whether it is an adequate scope or not'] <= 160)] = 2\n",
    "    desc_df['Whether it is an adequate scope or not'][desc_df['Whether it is an adequate scope or not'] > 160] = 3\n",
    "\n",
    "    desc_df['Whether it is an adequate scope or not'].replace(0, 'Meta Description Not Set', inplace=True)\n",
    "    desc_df['Whether it is an adequate scope or not'].replace(1, 'Too Short(Under 100 Characters)', inplace=True)\n",
    "    desc_df['Whether it is an adequate scope or not'].replace(2, 'Suitable', inplace=True)\n",
    "    desc_df['Whether it is an adequate scope or not'].replace(3, 'Caution: Over 160 Chacracters', inplace=True)\n",
    "    \n",
    "    # Duplication 컬럼\n",
    "    desc_df['Duplication'] = desc_df['Meta Description 1']\n",
    "\n",
    "    desc_df['Duplication'][desc_df['Duplication'].duplicated(keep=False) == True] = 'Duplication'\n",
    "    desc_df['Duplication'][desc_df['Duplication'].duplicated(keep=False) == False] = ''\n",
    "\n",
    "    # 저장\n",
    "    with pd.ExcelWriter(raw_address+'/'+country+'/dataframe.xlsx', mode='a', engine='openpyxl') as writer:\n",
    "        desc_df.to_excel(writer, sheet_name = '2. Meta Description', index=False)\n",
    "\n",
    "    # 결과\n",
    "    count_num += 1\n",
    "    print(count_num,'. {} 나라의 2. Meta Description DataFrame 이 완료되었습니다..'.format(country))"
   ]
  },
  {
   "cell_type": "markdown",
   "metadata": {},
   "source": [
    "## 3. URL & Canonical URL"
   ]
  },
  {
   "cell_type": "code",
   "execution_count": 31,
   "metadata": {},
   "outputs": [
    {
     "name": "stdout",
     "output_type": "stream",
     "text": [
      "1 . Pakistan(PK) 나라의 3. URL & Canonical URL 이 완료되었습니다..\n"
     ]
    }
   ],
   "source": [
    "count_num = 0\n",
    "\n",
    "for country, as_country in zip(countrys, as_countrys):\n",
    "    # 데이터 불러오기\n",
    "    internal_df = pd.read_excel(raw_address+'/'+country+'/Raw/internal_all.xlsx', sheet_name='검수 URL')\n",
    "    \n",
    "    # 오름차순 정룔\n",
    "    internal_df = internal_df.sort_values(by='Address', ascending=True)\n",
    "\n",
    "    # 컬럼 불러오기\n",
    "    cano_df = internal_df[['Address', 'Canonical Link Element 1']]\n",
    "\n",
    "    # URL Format O/X 컬럼\n",
    "    cano_df['URL Format O/X'] = ''\n",
    "    s_char='=+,#?:^$.@*\"※~&%ㆍ!』\\‘|()[]<>`…》_'\n",
    "    for i in range(cano_df.shape[0]):\n",
    "        url_pre = cano_df['Address'][i]\n",
    "        url_pre_1 = url_pre.replace(\"/\",\"\")\n",
    "        url_pre_2 = url_pre_1.replace(\"-\",\"\")\n",
    "        url_pre_3 = url_pre_2.replace(\".\",\"\")\n",
    "        url_pre_4 = url_pre_3.replace(\":\",\"\")\n",
    "        if any(url_string in url_pre_4 for url_string in s_char):\n",
    "            cano_df['URL Format O/X'][i] = 'X'\n",
    "        else:\n",
    "            cano_df['URL Format O/X'][i] = 'O'\n",
    "            \n",
    "    # URL : Whether it is correct or not 컬럼\n",
    "    cano_df['URL : Whether it is correct or not'] = cano_df['URL Format O/X']\n",
    "\n",
    "    cano_df['URL : Whether it is correct or not'][cano_df['URL : Whether it is correct or not'] == 'X'] = 'Using Special Character'\n",
    "    cano_df['URL : Whether it is correct or not'][cano_df['URL : Whether it is correct or not'] == 'O'] = 'Suitable'\n",
    "\n",
    "    # Canonical O/X 컬럼\n",
    "    cano_df['Canonical O/X'] = cano_df['Address']\n",
    "\n",
    "    cano_df['Canonical O/X'][cano_df['Canonical O/X'] != cano_df['Canonical Link Element 1']] = 'X'\n",
    "    cano_df['Canonical O/X'][cano_df['Canonical O/X'] == cano_df['Canonical Link Element 1']] = 'O'\n",
    "    \n",
    "    # Canonical : Whether it is correct or not 컬럼\n",
    "    cano_df['Canonical : Whether it is correct or not'] = cano_df['Canonical O/X']\n",
    "\n",
    "    cano_df['Canonical : Whether it is correct or not'][cano_df['Canonical : Whether it is correct or not'] == 'X'] = 'Using Special Character'\n",
    "    cano_df['Canonical : Whether it is correct or not'][cano_df['Canonical : Whether it is correct or not'] == 'O'] = 'Suitable'\n",
    "    \n",
    "    # 저장\n",
    "    with pd.ExcelWriter(raw_address+'/'+country+'/dataframe.xlsx', mode='a', engine='openpyxl') as writer:\n",
    "        cano_df.to_excel(writer, sheet_name='3. URL & Canonical URL', index=False)\n",
    "    \n",
    "    # 결과\n",
    "    count_num += 1\n",
    "    print(count_num,'. {} 나라의 3. URL & Canonical URL 이 완료되었습니다..'.format(country))"
   ]
  },
  {
   "cell_type": "markdown",
   "metadata": {},
   "source": [
    "## 4. H1 Tag"
   ]
  },
  {
   "cell_type": "code",
   "execution_count": 32,
   "metadata": {},
   "outputs": [
    {
     "name": "stdout",
     "output_type": "stream",
     "text": [
      "1 . Pakistan(PK) 나라의 4. H1 Tag 이 완료되었습니다..\n"
     ]
    }
   ],
   "source": [
    "count_num = 0\n",
    "\n",
    "for country, as_country in zip(countrys, as_countrys):\n",
    "    # 데이터 불러오기\n",
    "    h1_raw_df = pd.read_excel(raw_address+'/'+country+'/Raw/h1_all.xlsx')\n",
    "    \n",
    "    # 오름차순 정룔\n",
    "    h1_raw_df = h1_raw_df.sort_values(by='Address', ascending=True)\n",
    "\n",
    "    # 컬럼 불러오기\n",
    "    h1_df = h1_raw_df[['Address', 'H1-1', 'H1-2', 'Occurrences']]\n",
    "\n",
    "    # H1-1 컬럼\n",
    "    h1_df['H1-1'][h1_df['H1-1'].isnull()] = ''\n",
    "\n",
    "    # H1-2 컬럼\n",
    "    h1_df['H1-2'][h1_df['H1-2'].isnull()] = ''\n",
    "\n",
    "    # Exist 컬럼\n",
    "    h1_df['Exist'] = h1_df['Occurrences']\n",
    "\n",
    "    h1_df['Exist'][h1_df['Exist'] == 0] = 0\n",
    "    h1_df['Exist'][h1_df['Exist'] > 0] = 1\n",
    "\n",
    "    h1_df['Exist'].replace(0, 'X', inplace=True)\n",
    "    h1_df['Exist'].replace(1, 'O', inplace=True)\n",
    "    \n",
    "    # 저장\n",
    "    with pd.ExcelWriter(raw_address+'/'+country+'/dataframe.xlsx', mode='a', engine='openpyxl') as writer:\n",
    "        h1_df.to_excel(writer, sheet_name='4. H1 Tag', index=False)\n",
    "    \n",
    "    # 결과\n",
    "    count_num += 1\n",
    "    print(count_num,'. {} 나라의 4. H1 Tag 이 완료되었습니다..'.format(country))"
   ]
  },
  {
   "cell_type": "markdown",
   "metadata": {},
   "source": [
    "## 5. Breadcrumbs 컬럼"
   ]
  },
  {
   "cell_type": "code",
   "execution_count": 33,
   "metadata": {},
   "outputs": [
    {
     "name": "stdout",
     "output_type": "stream",
     "text": [
      "1 . Pakistan(PK) 나라의 5. Breadcrumbs 이 완료되었습니다..\n"
     ]
    }
   ],
   "source": [
    "count_num = 0\n",
    "\n",
    "for country, as_country in zip(countrys, as_countrys):\n",
    "    # 데이터 불러오기\n",
    "    bread_og_df = pd.read_excel(raw_address+'/'+country+'/Raw/custom_extraction_all.xlsx')\n",
    "    \n",
    "    # 오름차순 정룔\n",
    "    bread_og_df = bread_og_df.sort_values(by='Address', ascending=True)\n",
    "\n",
    "    # 컬럼 불러오기\n",
    "    bread_df = bread_og_df[['Address','Breadcrumbs 1', 'Breadcrumbs 2','Breadcrumbs 3', 'Breadcrumbs 4']]\n",
    "    \n",
    "    # Breadcrumbs Exist 컬럼\n",
    "    bread_df['Breadcrumbs Exist'] = bread_og_df['Breadcrumbs 1']\n",
    "\n",
    "    bread_df['Breadcrumbs Exist'].loc[bread_df['Breadcrumbs Exist'].isnull() == False] = 'O'\n",
    "    bread_df['Breadcrumbs Exist'].loc[bread_df['Breadcrumbs Exist'].isnull() == True] = 'X'\n",
    "    \n",
    "    # Breadcrumbs 1 컬럼\n",
    "    bread_df['Breadcrumbs 1'][bread_df['Breadcrumbs 1'].isnull()] = ''\n",
    "\n",
    "    # Breadcrumbs 2 컬럼\n",
    "    bread_df['Breadcrumbs 2'][bread_df['Breadcrumbs 2'].isnull()] = ''\n",
    "\n",
    "    # Breadcrumbs 3 컬럼\n",
    "    bread_df['Breadcrumbs 3'][bread_df['Breadcrumbs 3'].isnull()] = ''\n",
    "\n",
    "    # Breadcrumbs 4 컬럼\n",
    "    bread_df['Breadcrumbs 4'][bread_df['Breadcrumbs 4'].isnull()] = ''\n",
    "    \n",
    "    # 저장\n",
    "    with pd.ExcelWriter(raw_address+'/'+country+'/dataframe.xlsx', mode='a', engine='openpyxl') as writer:\n",
    "        bread_df.to_excel(writer, sheet_name='5. Breadcrumbs', index=False)\n",
    "    \n",
    "    # 결과\n",
    "    count_num += 1\n",
    "    print(count_num,'. {} 나라의 5. Breadcrumbs 이 완료되었습니다..'.format(country))"
   ]
  },
  {
   "cell_type": "markdown",
   "metadata": {},
   "source": [
    "## 6. OG Tag"
   ]
  },
  {
   "cell_type": "code",
   "execution_count": 34,
   "metadata": {},
   "outputs": [
    {
     "name": "stdout",
     "output_type": "stream",
     "text": [
      "1 . Pakistan(PK) 나라의 6. OG Tag 이 완료되었습니다..\n"
     ]
    }
   ],
   "source": [
    "count_num = 0\n",
    "\n",
    "for country, as_country in zip(countrys, as_countrys):\n",
    "    # 데이터 불러오기\n",
    "    bread_og_df = pd.read_excel(raw_address+'/'+country+'/Raw/custom_extraction_all.xlsx')\n",
    "    \n",
    "    # 오름차순 정룔\n",
    "    bread_og_df = bread_og_df.sort_values(by='Address', ascending=True)\n",
    "\n",
    "    # 컬럼 불러오기\n",
    "    og_df = bread_og_df[['Address','OG : Title 1', 'OG : Description 1']]\n",
    "    \n",
    "    # OG : Title Exist 컬럼\n",
    "    og_df['OG : Title'] = og_df['OG : Title 1'] \n",
    "\n",
    "    og_df['OG : Title'].loc[og_df['OG : Title'].isnull() == False] = 'O'\n",
    "    og_df['OG : Title'].loc[og_df['OG : Title'].isnull() == True] = 'X'\n",
    "    \n",
    "    # OG : Description Exist 컬럼\n",
    "    og_df['OG : Description Exist'] = og_df['OG : Description 1'] \n",
    "\n",
    "    og_df['OG : Description Exist'].loc[og_df['OG : Description Exist'].isnull() == False] = 'O'\n",
    "    og_df['OG : Description Exist'].loc[og_df['OG : Description Exist'].isnull() == True] = 'X'\n",
    "    \n",
    "    # 저장\n",
    "    with pd.ExcelWriter(raw_address+'/'+country+'/dataframe.xlsx', mode='a', engine='openpyxl') as writer:\n",
    "        og_df.to_excel(writer, sheet_name='6. OG Tag', index=False)\n",
    "    \n",
    "    # 결과\n",
    "    count_num += 1\n",
    "    print(count_num,'. {} 나라의 6. OG Tag 이 완료되었습니다..'.format(country))"
   ]
  },
  {
   "cell_type": "markdown",
   "metadata": {},
   "source": [
    "## 7. Response Code"
   ]
  },
  {
   "cell_type": "code",
   "execution_count": 35,
   "metadata": {},
   "outputs": [
    {
     "name": "stdout",
     "output_type": "stream",
     "text": [
      "1 . Pakistan(PK) 나라의 7. Response Code 이 완료되었습니다..\n"
     ]
    }
   ],
   "source": [
    "count_num = 0\n",
    "\n",
    "for country, as_country in zip(countrys, as_countrys):\n",
    "    # 데이터 불러오기\n",
    "    internal_df = pd.read_excel(raw_address+'/'+country+'/Raw/internal_all.xlsx', sheet_name='1 - All')\n",
    "\n",
    "    res_raw_df = internal_df\n",
    "    res_df = res_raw_df[res_raw_df['Address'].str.contains('www.kia.com/'+as_country)]\n",
    "    res_df.sort_values(by='Address', ascending=False, inplace=True)\n",
    "    \n",
    "    # 저장\n",
    "    with pd.ExcelWriter(raw_address+'/'+country+'/dataframe.xlsx', mode='a', engine='openpyxl') as writer:\n",
    "        res_df.to_excel(writer, sheet_name='7. Response Code', index=False)\n",
    "        \n",
    "    # 결과\n",
    "    count_num += 1\n",
    "    print(count_num,'. {} 나라의 7. Response Code 이 완료되었습니다..'.format(country))"
   ]
  },
  {
   "cell_type": "code",
   "execution_count": 13,
   "metadata": {},
   "outputs": [],
   "source": []
  },
  {
   "cell_type": "code",
   "execution_count": 15,
   "metadata": {},
   "outputs": [],
   "source": []
  },
  {
   "cell_type": "code",
   "execution_count": null,
   "metadata": {},
   "outputs": [],
   "source": []
  },
  {
   "cell_type": "code",
   "execution_count": null,
   "metadata": {},
   "outputs": [],
   "source": []
  },
  {
   "cell_type": "code",
   "execution_count": null,
   "metadata": {},
   "outputs": [],
   "source": []
  },
  {
   "cell_type": "code",
   "execution_count": null,
   "metadata": {},
   "outputs": [],
   "source": []
  },
  {
   "cell_type": "code",
   "execution_count": null,
   "metadata": {},
   "outputs": [],
   "source": [
    "# 평균 Bounce rate"
   ]
  },
  {
   "cell_type": "code",
   "execution_count": null,
   "metadata": {},
   "outputs": [],
   "source": []
  },
  {
   "cell_type": "code",
   "execution_count": null,
   "metadata": {},
   "outputs": [],
   "source": []
  },
  {
   "cell_type": "code",
   "execution_count": null,
   "metadata": {},
   "outputs": [],
   "source": []
  },
  {
   "cell_type": "code",
   "execution_count": null,
   "metadata": {},
   "outputs": [],
   "source": []
  },
  {
   "cell_type": "code",
   "execution_count": null,
   "metadata": {},
   "outputs": [],
   "source": []
  },
  {
   "cell_type": "code",
   "execution_count": null,
   "metadata": {},
   "outputs": [],
   "source": []
  },
  {
   "cell_type": "code",
   "execution_count": null,
   "metadata": {},
   "outputs": [],
   "source": []
  },
  {
   "cell_type": "code",
   "execution_count": null,
   "metadata": {},
   "outputs": [],
   "source": []
  },
  {
   "cell_type": "code",
   "execution_count": null,
   "metadata": {},
   "outputs": [],
   "source": []
  },
  {
   "cell_type": "code",
   "execution_count": null,
   "metadata": {},
   "outputs": [],
   "source": []
  },
  {
   "cell_type": "code",
   "execution_count": null,
   "metadata": {},
   "outputs": [],
   "source": []
  },
  {
   "cell_type": "code",
   "execution_count": null,
   "metadata": {},
   "outputs": [],
   "source": []
  }
 ],
 "metadata": {
  "kernelspec": {
   "display_name": "Python 3",
   "language": "python",
   "name": "python3"
  },
  "language_info": {
   "codemirror_mode": {
    "name": "ipython",
    "version": 3
   },
   "file_extension": ".py",
   "mimetype": "text/x-python",
   "name": "python",
   "nbconvert_exporter": "python",
   "pygments_lexer": "ipython3",
   "version": "3.7.3"
  }
 },
 "nbformat": 4,
 "nbformat_minor": 2
}
