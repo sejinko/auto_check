{
 "cells": [
  {
   "cell_type": "code",
   "execution_count": 1,
   "metadata": {},
   "outputs": [],
   "source": [
    "import numpy as np\n",
    "import pandas as pd\n",
    "import openpyxl\n",
    "from openpyxl.styles import Font, Alignment, PatternFill, Color, Border, Side\n",
    "\n",
    "import warnings\n",
    "warnings.filterwarnings('ignore')"
   ]
  },
  {
   "cell_type": "code",
   "execution_count": null,
   "metadata": {},
   "outputs": [],
   "source": [
    "1. 나라별로 입력하면 가공 되도록 만든다.\n",
    "2. 가공 → 입력 순으로 넣는다.\n",
    "2-1. \n"
   ]
  },
  {
   "cell_type": "markdown",
   "metadata": {},
   "source": [
    "## 경로지정"
   ]
  },
  {
   "cell_type": "code",
   "execution_count": 2,
   "metadata": {},
   "outputs": [],
   "source": [
    "raw_address = 'F:/OneDrive/3. 검수/1. 상반기 국가별 검수 Raw'\n",
    "final_address = 'F:/OneDrive/3. 검수/Kia.com(국가) SEO Audit_200403.xlsx'\n",
    "countrys = ['Pakistan(PK)']\n",
    "as_countrys = ['pk']"
   ]
  },
  {
   "cell_type": "markdown",
   "metadata": {},
   "source": [
    "## 1. internal_all 전처리 - 검수 URL 생성"
   ]
  },
  {
   "cell_type": "code",
   "execution_count": 3,
   "metadata": {},
   "outputs": [],
   "source": [
    "# for country, as_country in zip(countrys, as_countrys):\n",
    "#     # 데이터 불러오기\n",
    "#     check_url = pd.read_excel(raw_address+'/'+country+'/Raw/internal_all.xlsx', sheet_name='1 - All')\n",
    "    \n",
    "#     # 데이터 가공\n",
    "#     check_url_1 = check_url['Address'].str.contains('www.kia.com/'+as_country+'/')\n",
    "#     response_url = check_url[check_url_1 == True]\n",
    "#     response_url.sort_values(by=['Status Code'],ascending=False, inplace=True) # response 완료\n",
    "    \n",
    "    \n",
    "#     checked_url_2 = response_url[response_url['Status Code'] != '404']\n",
    "\n",
    "    \n",
    "    \n",
    "    \n",
    "    \n",
    "    \n",
    "    \n",
    "# #     Non_indexable_url = checked_url_2['Indexability'] == 'Non-Indexable'\n",
    "# #     Non_indexable_url = checked_url_2[Non_indexable_url] # Non_indexable 완료\n",
    "    \n",
    "    "
   ]
  },
  {
   "cell_type": "code",
   "execution_count": null,
   "metadata": {},
   "outputs": [],
   "source": []
  },
  {
   "cell_type": "code",
   "execution_count": 4,
   "metadata": {},
   "outputs": [
    {
     "ename": "SyntaxError",
     "evalue": "'break' outside loop (<ipython-input-4-d9083f194a30>, line 42)",
     "output_type": "error",
     "traceback": [
      "\u001b[1;36m  File \u001b[1;32m\"<ipython-input-4-d9083f194a30>\"\u001b[1;36m, line \u001b[1;32m42\u001b[0m\n\u001b[1;33m    else:\u001b[0m\n\u001b[1;37m         \n^\u001b[0m\n\u001b[1;31mSyntaxError\u001b[0m\u001b[1;31m:\u001b[0m 'break' outside loop\n"
     ]
    }
   ],
   "source": [
    "# # redirect 부분 편집해야 함\n",
    "\n",
    "# address_url_2 = []\n",
    "# address_url_3 = []\n",
    "# address_url_4 = []\n",
    "# address_url_5 = []\n",
    "\n",
    "# if any(checked_url_2['Redirect URL'].notnull() == True):\n",
    "#     redirect_url_1 = checked_url_2['Redirect URL'][checked_url_2['Redirect URL'].notnull() == True]\n",
    "#     for url in redirect_url_1:\n",
    "#         redirect_url_1_address = checked_url_2[url == checked_url_2['Address']]\n",
    "#         if redirect_url_1_address['Status Code'].item() == 200:\n",
    "#             print('ok')\n",
    "#         else:\n",
    "#             address_url_2.append(url)\n",
    "#     if any(checked_url_2['Address'].isin(address_url_2) == True): \n",
    "#         redirect_url_2 = checked_url_2['Redirect URL'][checked_url_2['Address'].isin(address_url_2) == True]\n",
    "#         for url in redirect_url_2:\n",
    "#             redirect_url_2_address = checked_url_2[url == checked_url_2['Address']]\n",
    "#             if redirect_url_2_address['Status Code'].item() == 200:\n",
    "#                 print('ok')\n",
    "#             else:\n",
    "#                 address_url_3.append(url)\n",
    "#         if any(checked_url_2['Address'].isin(address_url_3) == True): \n",
    "#             redirect_url_3 = checked_url_2['Redirect URL'][checked_url_2['Address'].isin(address_url_3) == True]\n",
    "#             for url in redirect_url_3:\n",
    "#                 redirect_url_3_address = checked_url_2[url == checked_url_2['Address']]\n",
    "#                 if redirect_url_3_address['Status Code'].item() == 200:\n",
    "#                     print('ok')\n",
    "#                 else:\n",
    "#                     address_url_4.append(url)\n",
    "#             if any(checked_url_2['Address'].isin(address_url_4) == True):\n",
    "#                 redirect_url_4 = checked_url_2['Redirect URL'][checked_url_2['Address'].isin(address_url_4) == True]\n",
    "#                 for url in redirect_url_4:\n",
    "#                     redirect_url_4_address = checked_url_2[url == checked_url_2['Address']]\n",
    "#                     if redirect_url_4_address['Status Code'].item() == 200:\n",
    "#                         print('ok')\n",
    "#                     else:\n",
    "#                         address_url_5.append(url)\n",
    "#             else:\n",
    "#                 break\n",
    "#         else:\n",
    "#             break         \n",
    "#     else:\n",
    "#         break\n",
    "# else:\n",
    "#     break"
   ]
  },
  {
   "cell_type": "markdown",
   "metadata": {},
   "source": [
    "## DataFrame 만들기"
   ]
  },
  {
   "cell_type": "code",
   "execution_count": 3,
   "metadata": {},
   "outputs": [
    {
     "name": "stdout",
     "output_type": "stream",
     "text": [
      "1 . Pakistan(PK) 나라의 데이터를 불러왔습니다.\n"
     ]
    }
   ],
   "source": [
    "count_num = 0\n",
    "\n",
    "for country, as_country in zip(countrys, as_countrys):\n",
    "    # 데이터 불러오기\n",
    "    internal_df = pd.read_excel(raw_address+'/'+country+'/Raw/internal_all.xlsx', sheet_name='검수 URL')\n",
    "    h1_raw_df = pd.read_excel(raw_address+'/'+country+'/Raw/h1_all.xlsx')\n",
    "    bread_og_df = pd.read_excel(raw_address+'/'+country+'/Raw/custom_extraction_all.xlsx')\n",
    "    \n",
    "    count_num += 1\n",
    "    print(count_num,'. {} 나라의 데이터를 불러왔습니다.'.format(country))"
   ]
  },
  {
   "cell_type": "code",
   "execution_count": 11,
   "metadata": {},
   "outputs": [
    {
     "data": {
      "text/plain": [
       "(110, 48)"
      ]
     },
     "execution_count": 11,
     "metadata": {},
     "output_type": "execute_result"
    }
   ],
   "source": [
    "check_url.shape"
   ]
  },
  {
   "cell_type": "markdown",
   "metadata": {},
   "source": [
    "## 1. Title DataFrame"
   ]
  },
  {
   "cell_type": "code",
   "execution_count": 121,
   "metadata": {},
   "outputs": [],
   "source": [
    "count_num = 0\n",
    "\n",
    "for country, as_country in zip(countrys, as_countrys):\n",
    "    # 데이터 불러오기\n",
    "    internal_df = pd.read_excel(raw_address+'/'+country+'/Raw/internal_all.xlsx', sheet_name='검수 URL')\n",
    "\n",
    "    # 컬럼 불러오기\n",
    "    title_df = internal_df[['Address', 'Title 1', 'Title 1 Length']]\n",
    "\n",
    "    # 오름차순 정렬\n",
    "    title_df = title_df.sort_values(by='Address', ascending=True)\n",
    "\n",
    "    # Exist 컬럼\n",
    "    title_df['Exist'] = title_df['Title 1']\n",
    "    \n",
    "    title_df['Exist'].loc[title_df['Exist'].isnull() == False] = 'O'\n",
    "    title_df['Exist'].loc[title_df['Exist'].isnull() == True] = 'X'\n",
    "\n",
    "    # Length Suitability 컬럼\n",
    "    title_df['Length Suitability'] = title_df['Title 1 Length']\n",
    "\n",
    "    title_df['Length Suitability'].loc[title_df['Length Suitability'] < 29] = 0\n",
    "    title_df['Length Suitability'].loc[title_df['Length Suitability'] > 29] = 1\n",
    "\n",
    "    title_df['Length Suitability'].replace(0, 'X', inplace=True)\n",
    "    title_df['Length Suitability'].replace(1, 'O', inplace=True)\n",
    "    \n",
    "    # Whether it is an adequate scope or not 컬럼\n",
    "    title_df['Whether it is an adequate scope or not'] = title_df['Title 1 Length']\n",
    "\n",
    "    title_df['Whether it is an adequate scope or not'][title_df['Whether it is an adequate scope or not'] == 0] = 0\n",
    "    title_df['Whether it is an adequate scope or not'][(title_df['Whether it is an adequate scope or not'] > 0) &\n",
    "                                                       (title_df['Whether it is an adequate scope or not'] < 30)] = 1\n",
    "    title_df['Whether it is an adequate scope or not'][(title_df['Whether it is an adequate scope or not'] >= 30) &\n",
    "                                                       (title_df['Whether it is an adequate scope or not'] <= 70)] = 2\n",
    "    title_df['Whether it is an adequate scope or not'][title_df['Whether it is an adequate scope or not'] > 70] = 3\n",
    "\n",
    "    title_df['Whether it is an adequate scope or not'].replace(0, 'Title Tag Not Set', inplace=True)\n",
    "    title_df['Whether it is an adequate scope or not'].replace(1, 'Too Short(Under 30 Characters)', inplace=True)\n",
    "    title_df['Whether it is an adequate scope or not'].replace(2, 'Suitable', inplace=True)\n",
    "    title_df['Whether it is an adequate scope or not'].replace(3, 'Caution : Over 70 Characters', inplace=True)\n",
    "    \n",
    "    # Duplication 컬럼\n",
    "    title_df['Duplication'] = title_df['Title 1']\n",
    "\n",
    "    title_df['Duplication'][title_df['Duplication'].duplicated(keep=False) == True] = 'Duplication'\n",
    "    title_df['Duplication'][title_df['Duplication'].duplicated(keep=False) == False] = ''\n",
    "    \n",
    "    # main 페이지가 Kia Motos Kuwait 인지 Kia Kuwait인지에 따라 결정됨 뒤에오든 앞에오든 상관 없음\n",
    "\n",
    "    # Title Format\n",
    "    title_df['Title Format'] = title_df['Title 1']\n",
    "\n",
    "    title_df['Title Format'][title_df['Title Format'].str.contains('kia') == False] = 'Format Check Required'\n",
    "    title_df['Title Format'][title_df['Title Format'].str.contains('kia') == True] = ''\n",
    "    \n",
    "    # 저장\n",
    "    \n",
    "    # 결과\n",
    "    count_num += 1\n",
    "    print(count_num,'. {} 나라의 1.Title DataFrame이 완료되었습니다..'.format(country))"
   ]
  },
  {
   "cell_type": "markdown",
   "metadata": {},
   "source": [
    "## 2. Meta Description DataFrame"
   ]
  },
  {
   "cell_type": "code",
   "execution_count": 95,
   "metadata": {},
   "outputs": [],
   "source": [
    "# 컬럼 불러오기\n",
    "desc_df = internal_df[['Address', 'Meta Description 1', 'Meta Description 1 Length']]\n",
    "\n",
    "# 오름차순 정렬\n",
    "desc_df = desc_df.sort_values(by='Address', ascending=True)"
   ]
  },
  {
   "cell_type": "code",
   "execution_count": 97,
   "metadata": {},
   "outputs": [],
   "source": [
    "# Exist 컬럼\n",
    "desc_df['Exist'] = desc_df['Meta Description 1']\n",
    "\n",
    "desc_df['Exist'].loc[desc_df['Exist'].isnull() == False] = 'O'\n",
    "desc_df['Exist'].loc[desc_df['Exist'].isnull() == True] = 'X'"
   ]
  },
  {
   "cell_type": "code",
   "execution_count": 98,
   "metadata": {},
   "outputs": [
    {
     "data": {
      "text/html": [
       "<div>\n",
       "<style scoped>\n",
       "    .dataframe tbody tr th:only-of-type {\n",
       "        vertical-align: middle;\n",
       "    }\n",
       "\n",
       "    .dataframe tbody tr th {\n",
       "        vertical-align: top;\n",
       "    }\n",
       "\n",
       "    .dataframe thead th {\n",
       "        text-align: right;\n",
       "    }\n",
       "</style>\n",
       "<table border=\"1\" class=\"dataframe\">\n",
       "  <thead>\n",
       "    <tr style=\"text-align: right;\">\n",
       "      <th></th>\n",
       "      <th>Address</th>\n",
       "      <th>Meta Description 1</th>\n",
       "      <th>Meta Description 1 Length</th>\n",
       "      <th>Exist</th>\n",
       "    </tr>\n",
       "  </thead>\n",
       "  <tbody>\n",
       "    <tr>\n",
       "      <th>1</th>\n",
       "      <td>https://www.kia.com/pk/discover-kia/ask.html</td>\n",
       "      <td>Search voice</td>\n",
       "      <td>12</td>\n",
       "      <td>O</td>\n",
       "    </tr>\n",
       "    <tr>\n",
       "      <th>2</th>\n",
       "      <td>https://www.kia.com/pk/discover-kia/ask/are-el...</td>\n",
       "      <td>Electric cars are definitely more eco-friendly...</td>\n",
       "      <td>171</td>\n",
       "      <td>O</td>\n",
       "    </tr>\n",
       "    <tr>\n",
       "      <th>3</th>\n",
       "      <td>https://www.kia.com/pk/discover-kia/ask/how-lo...</td>\n",
       "      <td>A combination of physical factors, climate con...</td>\n",
       "      <td>177</td>\n",
       "      <td>O</td>\n",
       "    </tr>\n",
       "    <tr>\n",
       "      <th>5</th>\n",
       "      <td>https://www.kia.com/pk/discover-kia/ask/how-lo...</td>\n",
       "      <td>Summer tires last for 20,000-40,000 miles depe...</td>\n",
       "      <td>156</td>\n",
       "      <td>O</td>\n",
       "    </tr>\n",
       "    <tr>\n",
       "      <th>4</th>\n",
       "      <td>https://www.kia.com/pk/discover-kia/ask/how-lo...</td>\n",
       "      <td>An electric car can be charged at home or at a...</td>\n",
       "      <td>149</td>\n",
       "      <td>O</td>\n",
       "    </tr>\n",
       "  </tbody>\n",
       "</table>\n",
       "</div>"
      ],
      "text/plain": [
       "                                             Address  \\\n",
       "1       https://www.kia.com/pk/discover-kia/ask.html   \n",
       "2  https://www.kia.com/pk/discover-kia/ask/are-el...   \n",
       "3  https://www.kia.com/pk/discover-kia/ask/how-lo...   \n",
       "5  https://www.kia.com/pk/discover-kia/ask/how-lo...   \n",
       "4  https://www.kia.com/pk/discover-kia/ask/how-lo...   \n",
       "\n",
       "                                  Meta Description 1  \\\n",
       "1                                       Search voice   \n",
       "2  Electric cars are definitely more eco-friendly...   \n",
       "3  A combination of physical factors, climate con...   \n",
       "5  Summer tires last for 20,000-40,000 miles depe...   \n",
       "4  An electric car can be charged at home or at a...   \n",
       "\n",
       "   Meta Description 1 Length Exist  \n",
       "1                         12     O  \n",
       "2                        171     O  \n",
       "3                        177     O  \n",
       "5                        156     O  \n",
       "4                        149     O  "
      ]
     },
     "execution_count": 98,
     "metadata": {},
     "output_type": "execute_result"
    }
   ],
   "source": [
    "desc_df.head()"
   ]
  },
  {
   "cell_type": "code",
   "execution_count": 100,
   "metadata": {},
   "outputs": [],
   "source": [
    "# Length Suitability 컬럼\n",
    "desc_df['Length Suitability'] = desc_df['Meta Description 1 Length']\n",
    "\n",
    "desc_df['Length Suitability'].loc[desc_df['Length Suitability'] < 99] = 0\n",
    "desc_df['Length Suitability'].loc[desc_df['Length Suitability'] > 99] = 1\n",
    "\n",
    "desc_df['Length Suitability'].replace(0, 'X', inplace=True)\n",
    "desc_df['Length Suitability'].replace(1, 'O', inplace=True)"
   ]
  },
  {
   "cell_type": "code",
   "execution_count": 104,
   "metadata": {},
   "outputs": [],
   "source": [
    "# Whether it is an adequate scope or not 컬럼\n",
    "desc_df['Whether it is an adequate scope or not'] = desc_df['Meta Description 1 Length']\n",
    "\n",
    "desc_df['Whether it is an adequate scope or not'][desc_df['Whether it is an adequate scope or not'] == 0] = 0\n",
    "desc_df['Whether it is an adequate scope or not'][(desc_df['Whether it is an adequate scope or not'] > 0) &\n",
    "                                                   (desc_df['Whether it is an adequate scope or not'] < 100)] = 1\n",
    "desc_df['Whether it is an adequate scope or not'][(desc_df['Whether it is an adequate scope or not'] >= 100) &\n",
    "                                                   (desc_df['Whether it is an adequate scope or not'] <= 160)] = 2\n",
    "desc_df['Whether it is an adequate scope or not'][desc_df['Whether it is an adequate scope or not'] > 160] = 3\n",
    "\n",
    "desc_df['Whether it is an adequate scope or not'].replace(0, 'Meta Description Not Set', inplace=True)\n",
    "desc_df['Whether it is an adequate scope or not'].replace(1, 'Too Short(Under 100 Characters)', inplace=True)\n",
    "desc_df['Whether it is an adequate scope or not'].replace(2, 'Suitable', inplace=True)\n",
    "desc_df['Whether it is an adequate scope or not'].replace(3, 'Caution: Over 160 Chacracters', inplace=True)"
   ]
  },
  {
   "cell_type": "code",
   "execution_count": 115,
   "metadata": {},
   "outputs": [],
   "source": [
    "# Duplication 컬럼\n",
    "desc_df['Duplication'] = desc_df['Meta Description 1']\n",
    "\n",
    "desc_df['Duplication'][desc_df['Duplication'].duplicated(keep=False) == True] = 'Duplication'\n",
    "desc_df['Duplication'][desc_df['Duplication'].duplicated(keep=False) == False] = ''"
   ]
  },
  {
   "cell_type": "markdown",
   "metadata": {},
   "source": [
    "## 3. URL & Canonical URL"
   ]
  },
  {
   "cell_type": "code",
   "execution_count": 177,
   "metadata": {},
   "outputs": [],
   "source": [
    "# 컬럼 불러오기\n",
    "cano_df = internal_df[['Address', 'Canonical Link Element 1']]\n",
    "\n",
    "# URL Format O/X 컬럼\n",
    "cano_df['URL Format O/X'] = ''\n",
    "s_char='=+,#?:^$.@*\"※~&%ㆍ!』\\‘|()[]<>`…》_'\n",
    "for i in range(cano_df.shape[0]):\n",
    "    url_pre = cano_df['Address'][i]\n",
    "    url_pre_1 = url_pre.replace(\"/\",\"\")\n",
    "    url_pre_2 = url_pre_1.replace(\"-\",\"\")\n",
    "    url_pre_3 = url_pre_2.replace(\".\",\"\")\n",
    "    url_pre_4 = url_pre_3.replace(\":\",\"\")\n",
    "    if any(url_string in url_pre_4 for url_string in s_char):\n",
    "        cano_df['URL Format O/X'][i] = 'X'\n",
    "    else:\n",
    "        cano_df['URL Format O/X'][i] = 'O'\n"
   ]
  },
  {
   "cell_type": "code",
   "execution_count": 181,
   "metadata": {},
   "outputs": [],
   "source": [
    "# URL : Whether it is correct or not 컬럼\n",
    "cano_df['URL : Whether it is correct or not'] = cano_df['URL Format O/X']\n",
    "\n",
    "cano_df['URL : Whether it is correct or not'][cano_df['URL : Whether it is correct or not'] == 'X'] = 'Using Special Character'\n",
    "cano_df['URL : Whether it is correct or not'][cano_df['URL : Whether it is correct or not'] == 'O'] = 'Suitable'\n"
   ]
  },
  {
   "cell_type": "code",
   "execution_count": 182,
   "metadata": {},
   "outputs": [],
   "source": [
    "# Canonical O/X 컬럼\n",
    "cano_df['Canonical O/X'] = cano_df['Address']\n",
    "\n",
    "cano_df['Canonical O/X'][cano_df['Canonical O/X'] != cano_df['Canonical Link Element 1']] = 'X'\n",
    "cano_df['Canonical O/X'][cano_df['Canonical O/X'] == cano_df['Canonical Link Element 1']] = 'O'\n"
   ]
  },
  {
   "cell_type": "code",
   "execution_count": 183,
   "metadata": {},
   "outputs": [],
   "source": [
    "cano_df['Canonical : Whether it is correct or not'] = cano_df['Canonical O/X']\n",
    "\n",
    "cano_df['Canonical : Whether it is correct or not'][cano_df['Canonical : Whether it is correct or not'] == 'X'] = 'Using Special Character'\n",
    "cano_df['Canonical : Whether it is correct or not'][cano_df['Canonical : Whether it is correct or not'] == 'O'] = 'Suitable'"
   ]
  },
  {
   "cell_type": "markdown",
   "metadata": {},
   "source": [
    "## 4. H1 Tag"
   ]
  },
  {
   "cell_type": "code",
   "execution_count": 199,
   "metadata": {},
   "outputs": [],
   "source": [
    "# 컬럼 불러오기\n",
    "h1_df = h1_raw_df[['Address', 'H1-1', 'H1-2', 'Occurrences']]\n",
    "\n",
    "# H1-1 컬럼\n",
    "h1_df['H1-1'][h1_df['H1-1'].isnull()] = ''\n",
    "\n",
    "# H1-2 컬럼\n",
    "h1_df['H1-2'][h1_df['H1-2'].isnull()] = ''\n"
   ]
  },
  {
   "cell_type": "code",
   "execution_count": 206,
   "metadata": {},
   "outputs": [],
   "source": [
    "# Exist 컬럼\n",
    "h1_df['Exist'] = h1_df['Occurrences']\n",
    "\n",
    "h1_df['Exist'][h1_df['Exist'] == 0] = 0\n",
    "h1_df['Exist'][h1_df['Exist'] > 0] = 1\n",
    "\n",
    "h1_df['Exist'].replace(0, 'X', inplace=True)\n",
    "h1_df['Exist'].replace(1, 'O', inplace=True)"
   ]
  },
  {
   "cell_type": "markdown",
   "metadata": {},
   "source": [
    "## 5. Breadcrumbs 컬럼"
   ]
  },
  {
   "cell_type": "code",
   "execution_count": 212,
   "metadata": {},
   "outputs": [],
   "source": [
    "# 컬럼 불러오기\n",
    "bread_df = bread_og_df[['Address','Breadcrumbs 1', 'Breadcrumbs 2','Breadcrumbs 3', 'Breadcrumbs 4']]"
   ]
  },
  {
   "cell_type": "code",
   "execution_count": 214,
   "metadata": {},
   "outputs": [],
   "source": [
    "# Breadcrumbs Exist 컬럼\n",
    "bread_df['Breadcrumbs Exist'] = bread_og_df['Breadcrumbs 1']\n",
    "\n",
    "bread_df['Breadcrumbs Exist'].loc[bread_df['Breadcrumbs Exist'].isnull() == False] = 'O'\n",
    "bread_df['Breadcrumbs Exist'].loc[bread_df['Breadcrumbs Exist'].isnull() == True] = 'X'"
   ]
  },
  {
   "cell_type": "code",
   "execution_count": 216,
   "metadata": {},
   "outputs": [],
   "source": [
    "# Breadcrumbs 1 컬럼\n",
    "bread_df['Breadcrumbs 1'][bread_df['Breadcrumbs 1'].isnull()] = ''\n",
    "\n",
    "# Breadcrumbs 2 컬럼\n",
    "bread_df['Breadcrumbs 2'][bread_df['Breadcrumbs 2'].isnull()] = ''\n",
    "\n",
    "# Breadcrumbs 3 컬럼\n",
    "bread_df['Breadcrumbs 3'][bread_df['Breadcrumbs 3'].isnull()] = ''\n",
    "\n",
    "# Breadcrumbs 4 컬럼\n",
    "bread_df['Breadcrumbs 4'][bread_df['Breadcrumbs 4'].isnull()] = ''"
   ]
  },
  {
   "cell_type": "markdown",
   "metadata": {},
   "source": [
    "## 6. OG Tag"
   ]
  },
  {
   "cell_type": "code",
   "execution_count": 219,
   "metadata": {},
   "outputs": [],
   "source": [
    "# 컬럼 불러오기\n",
    "bread_df = bread_og_df[['Address','OG : Title 1', 'OG : Description 1']]"
   ]
  },
  {
   "cell_type": "code",
   "execution_count": 220,
   "metadata": {},
   "outputs": [],
   "source": [
    "# OG : Title Exist 컬럼\n",
    "bread_df['OG : Title'] = bread_df['OG : Title 1'] \n",
    "\n",
    "bread_df['OG : Title'].loc[bread_df['OG : Title'].isnull() == False] = 'O'\n",
    "bread_df['OG : Title'].loc[bread_df['OG : Title'].isnull() == True] = 'X'"
   ]
  },
  {
   "cell_type": "code",
   "execution_count": 222,
   "metadata": {},
   "outputs": [],
   "source": [
    "# OG : Description Exist 컬럼\n",
    "bread_df['OG : Description Exist'] = bread_df['OG : Description 1'] \n",
    "\n",
    "bread_df['OG : Description Exist'].loc[bread_df['OG : Description Exist'].isnull() == False] = 'O'\n",
    "bread_df['OG : Description Exist'].loc[bread_df['OG : Description Exist'].isnull() == True] = 'X'"
   ]
  },
  {
   "cell_type": "markdown",
   "metadata": {},
   "source": [
    "## 7. Response Code"
   ]
  },
  {
   "cell_type": "code",
   "execution_count": 4,
   "metadata": {},
   "outputs": [
    {
     "name": "stdout",
     "output_type": "stream",
     "text": [
      "1 . Pakistan(PK) 나라의 데이터를 불러왔습니다.\n"
     ]
    }
   ],
   "source": [
    "count_num = 0\n",
    "\n",
    "for country, as_country in zip(countrys, as_countrys):\n",
    "    # 데이터 불러오기\n",
    "    internal_df = pd.read_excel(raw_address+'/'+country+'/Raw/internal_all.xlsx', sheet_name='1 - All')\n",
    "\n",
    "    res_raw_df = internal_df\n",
    "    res_df = res_raw_df[res_raw_df['Address'].str.contains('www.kia.com/'+as_country)]\n",
    "    res_df.sort_values(by='Address', ascending=False, inplace=True)\n",
    "    \n",
    "    # 결과\n",
    "    count_num += 1\n",
    "    print(count_num,'. {} 나라의 데이터를 불러왔습니다.'.format(country))"
   ]
  },
  {
   "cell_type": "markdown",
   "metadata": {},
   "source": [
    "## DataFrame 만들기"
   ]
  },
  {
   "cell_type": "code",
   "execution_count": 13,
   "metadata": {},
   "outputs": [],
   "source": []
  },
  {
   "cell_type": "code",
   "execution_count": 15,
   "metadata": {},
   "outputs": [],
   "source": []
  },
  {
   "cell_type": "code",
   "execution_count": null,
   "metadata": {},
   "outputs": [],
   "source": []
  },
  {
   "cell_type": "code",
   "execution_count": null,
   "metadata": {},
   "outputs": [],
   "source": []
  },
  {
   "cell_type": "code",
   "execution_count": null,
   "metadata": {},
   "outputs": [],
   "source": []
  },
  {
   "cell_type": "code",
   "execution_count": null,
   "metadata": {},
   "outputs": [],
   "source": []
  },
  {
   "cell_type": "code",
   "execution_count": null,
   "metadata": {},
   "outputs": [],
   "source": [
    "# 평균 Bounce rate"
   ]
  },
  {
   "cell_type": "code",
   "execution_count": null,
   "metadata": {},
   "outputs": [],
   "source": []
  },
  {
   "cell_type": "code",
   "execution_count": null,
   "metadata": {},
   "outputs": [],
   "source": []
  },
  {
   "cell_type": "code",
   "execution_count": null,
   "metadata": {},
   "outputs": [],
   "source": []
  },
  {
   "cell_type": "code",
   "execution_count": null,
   "metadata": {},
   "outputs": [],
   "source": []
  },
  {
   "cell_type": "code",
   "execution_count": null,
   "metadata": {},
   "outputs": [],
   "source": []
  },
  {
   "cell_type": "code",
   "execution_count": null,
   "metadata": {},
   "outputs": [],
   "source": []
  },
  {
   "cell_type": "code",
   "execution_count": null,
   "metadata": {},
   "outputs": [],
   "source": []
  },
  {
   "cell_type": "code",
   "execution_count": null,
   "metadata": {},
   "outputs": [],
   "source": []
  },
  {
   "cell_type": "code",
   "execution_count": null,
   "metadata": {},
   "outputs": [],
   "source": []
  },
  {
   "cell_type": "code",
   "execution_count": null,
   "metadata": {},
   "outputs": [],
   "source": []
  },
  {
   "cell_type": "code",
   "execution_count": null,
   "metadata": {},
   "outputs": [],
   "source": []
  },
  {
   "cell_type": "code",
   "execution_count": null,
   "metadata": {},
   "outputs": [],
   "source": []
  }
 ],
 "metadata": {
  "kernelspec": {
   "display_name": "Python 3",
   "language": "python",
   "name": "python3"
  },
  "language_info": {
   "codemirror_mode": {
    "name": "ipython",
    "version": 3
   },
   "file_extension": ".py",
   "mimetype": "text/x-python",
   "name": "python",
   "nbconvert_exporter": "python",
   "pygments_lexer": "ipython3",
   "version": "3.7.3"
  }
 },
 "nbformat": 4,
 "nbformat_minor": 2
}
