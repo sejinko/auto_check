{
 "cells": [
  {
   "cell_type": "code",
   "execution_count": 31,
   "metadata": {},
   "outputs": [],
   "source": [
    "import numpy as np\n",
    "import pandas as pd\n",
    "import openpyxl\n",
    "from openpyxl.styles import Font, Alignment, PatternFill, Color, Border, Side\n",
    "\n",
    "import warnings\n",
    "warnings.filterwarnings('ignore')"
   ]
  },
  {
   "cell_type": "markdown",
   "metadata": {},
   "source": [
    "## 매뉴얼"
   ]
  },
  {
   "cell_type": "markdown",
   "metadata": {},
   "source": [
    "#### 순서\n",
    "1. 각 나라별 틀이 갖춰진 검수할 URL이 적혀있는 엑셀 파일이 필요하다.\n",
    "2. 검수 Raw파일과 hreflang Raw 파일을 다운로드 하고 각 폴더에 집어 넣는다.\n",
    "2. 파일명을 알맞게 바꾼다.(저장파일, 검수 Raw, hreflang Raw 파일)\n",
    "3. 프로그램을 실행한다.\n",
    "\n",
    "#### 주의사항\n",
    "1. 검수할 URL주소를 2차, 3차 음성 검색 콘텐츠 라이브 이후 검수(AW).xlsx 파일의 검수 sheet에 URL 주소를 넣는다.\n",
    "2. 1.URL 구조에서는 ',\",.,: 은 잡아낼 수 없다.(나머지 특수기호는 추가하면 됨)\n",
    "3. 6.twitter 이미지, twitter 카드, Schema(Breadcrumb) 은 글자가 있으면 O, 없으면 X로 거른다.\n",
    "4. 4.디스크립션, 8.H tag, 10.CTA, 11.내비게이션, 12.콘텐츠는 직접 확인해야 함\n",
    "5. hreflang은 raw파일에서 X로 표시 된 것을 확인한다.\n"
   ]
  },
  {
   "cell_type": "markdown",
   "metadata": {},
   "source": [
    "## 검수 국가 설정"
   ]
  },
  {
   "cell_type": "code",
   "execution_count": 4,
   "metadata": {},
   "outputs": [],
   "source": [
    "countrys = [\"FJ\",\"KW\",\"HK\"]"
   ]
  },
  {
   "cell_type": "markdown",
   "metadata": {},
   "source": [
    "## 경로설정"
   ]
  },
  {
   "cell_type": "code",
   "execution_count": 5,
   "metadata": {},
   "outputs": [],
   "source": [
    "start_address = \"F:/OneDrive/12. 라이브 이후 검수/check file\"\n",
    "raw_address = \"F:/OneDrive/12. 라이브 이후 검수/Raw\"\n",
    "href_raw_address = \"F:/OneDrive/12. 라이브 이후 검수/Raw/Herflang RAW\"\n",
    "save_address = \"F:/OneDrive/12. 라이브 이후 검수\""
   ]
  },
  {
   "cell_type": "markdown",
   "metadata": {},
   "source": [
    "## 전처리(Raw 데이터 정리)"
   ]
  },
  {
   "cell_type": "code",
   "execution_count": 4,
   "metadata": {
    "scrolled": false
   },
   "outputs": [
    {
     "name": "stdout",
     "output_type": "stream",
     "text": [
      "1 . FJ 의, 검수 Raw 파일 생성이 완료되었습니다.\n",
      "2 . KW 의, 검수 Raw 파일 생성이 완료되었습니다.\n",
      "3 . HK 의, 검수 Raw 파일 생성이 완료되었습니다.\n"
     ]
    }
   ],
   "source": [
    "count_num = 0\n",
    "\n",
    "for country in countrys:\n",
    "    # 불러오기 1차(Raw, check Raw, ckeck)\n",
    "    after_raw = pd.read_excel(raw_address+\"/\"+\"2차, 3차 음성 검색 콘텐츠 라이브 이후 검수 (\"+\n",
    "                              country+\")_Raw.xlsx\")\n",
    "    \n",
    "    after_check = pd.read_excel(start_address+\"/\"+\"2차, 3차 음성 검색 콘텐츠 라이브 이후 검수 (\"\n",
    "                                +country+\").xlsx\", sheet_name =\"검수\")\n",
    "    \n",
    "    # 불러오기 2차\n",
    "    after_check_raw_wb = openpyxl.load_workbook(start_address+\"/\"+\n",
    "                                                \"2차, 3차 음성 검색 콘텐츠 라이브 이후 검수 (\"+country+\").xlsx\")\n",
    "    after_check_raw_ws = after_check_raw_wb['검수 Raw']\n",
    "    \n",
    "    # 전처리\n",
    "    for i in range(after_check.shape[0]):\n",
    "        if i < after_raw.shape[0]:\n",
    "            url_index = after_raw[after_check['URL'][i] == after_raw['Address']].index[0]\n",
    "        \n",
    "            # 1.URL\n",
    "            after_check_raw_ws['B'+str(i+2)] = after_raw['Address'][url_index]\n",
    "\n",
    "            # 2.URL 구조\n",
    "            after_check_raw_ws['C'+str(i+2)] = after_raw['Address'][url_index]\n",
    "\n",
    "            # 3.캐노니컬\n",
    "            after_check_raw_ws['D'+str(i+2)] = after_raw['Canonical Link Element 1'][url_index]\n",
    "\n",
    "            # 4.타이틀\n",
    "            after_check_raw_ws['E'+str(i+2)] = after_raw['Title 1'][url_index]\n",
    "\n",
    "            # 5.디스크립션\n",
    "            after_check_raw_ws['F'+str(i+2)] = after_raw['Meta Description 1'][url_index]\n",
    "            \n",
    "            # 6.OG\n",
    "            after_check_raw_ws['G'+str(i+2)] = after_raw['OG : Site Name 1'][url_index]\n",
    "            after_check_raw_ws['H'+str(i+2)] = after_raw['OG : Type 1'][url_index]\n",
    "            after_check_raw_ws['I'+str(i+2)] = after_raw['OG : Title 1'][url_index] \n",
    "            after_check_raw_ws['J'+str(i+2)] = after_raw['OG : Description 1'][url_index] \n",
    "            after_check_raw_ws['K'+str(i+2)] = after_raw['OG : URL 1'][url_index]\n",
    "\n",
    "            # 7.Twitter\n",
    "            after_check_raw_ws['L'+str(i+2)] = after_raw['Twitter : Site 1'][url_index]\n",
    "            after_check_raw_ws['M'+str(i+2)] = after_raw['Twitter : Title 1'][url_index]\n",
    "            after_check_raw_ws['N'+str(i+2)] = after_raw['Twitter : Description 1'][url_index]\n",
    "            after_check_raw_ws['O'+str(i+2)] = after_raw['Twitter : URL 1'][url_index]\n",
    "            after_check_raw_ws['P'+str(i+2)] = after_raw['Twitter : Image 1'][url_index]\n",
    "            after_check_raw_ws['Q'+str(i+2)] = after_raw['Twitter : Cards 1'][url_index]\n",
    "\n",
    "            # 8.Schema\n",
    "            after_check_raw_ws['R'+str(i+2)] = after_raw['Schema : Name 1'][url_index]\n",
    "            after_check_raw_ws['S'+str(i+2)] = after_raw['Schema : Description 1'][url_index]\n",
    "            after_check_raw_ws['T'+str(i+2)] = after_raw['Schema : URL 1'][url_index]\n",
    "            after_check_raw_ws['U'+str(i+2)] = after_raw['BreadcrumbList 1'][url_index]\n",
    "            after_check_raw_ws['V'+str(i+2)] = after_raw['Schema : Type Json 1'][url_index]\n",
    "\n",
    "            # 9.H tag\n",
    "            after_check_raw_ws['W'+str(i+2)] = after_raw['H1-1'][url_index]\n",
    "            after_check_raw_ws['X'+str(i+2)] = after_raw['H2-1'][url_index]\n",
    "            after_check_raw_ws['Y'+str(i+2)] = after_raw['H2-2'][url_index]\n",
    "            \n",
    "            # 0.국가명\n",
    "            after_check_raw_ws['A'+str(i+2)] = country\n",
    "            \n",
    "        else :\n",
    "            break\n",
    "            \n",
    "    # 저장\n",
    "    after_check_raw_wb.save(save_address+\"/\"+\"2차, 3차 음성 검색 콘텐츠 라이브 이후 검수 (\"+country+\").xlsx\")\n",
    "\n",
    "    # 결과\n",
    "    count_num += 1\n",
    "    print(count_num,\". {} 의, 검수 Raw 파일 생성이 완료되었습니다.\".format(country))"
   ]
  },
  {
   "cell_type": "markdown",
   "metadata": {},
   "source": [
    "## 1. URL 구조"
   ]
  },
  {
   "cell_type": "code",
   "execution_count": 5,
   "metadata": {},
   "outputs": [
    {
     "name": "stdout",
     "output_type": "stream",
     "text": [
      "1 . FJ 의, URL 구조 항목 검수가 완료되었습니다.\n",
      "2 . KW 의, URL 구조 항목 검수가 완료되었습니다.\n",
      "3 . HK 의, URL 구조 항목 검수가 완료되었습니다.\n"
     ]
    }
   ],
   "source": [
    "count_num = 0\n",
    "\n",
    "for country in countrys:\n",
    "    \n",
    "    # 불러오기 1차\n",
    "    url_after_check_raw = pd.read_excel(save_address+\"/\"+\n",
    "                                        \"2차, 3차 음성 검색 콘텐츠 라이브 이후 검수 (\"+country+\").xlsx\",\n",
    "                                        sheet_name =\"검수 Raw\")\n",
    "    \n",
    "    # 불러오기 2차\n",
    "    url_after_check_wb = openpyxl.load_workbook(save_address+\"/\"+\n",
    "                                                 \"2차, 3차 음성 검색 콘텐츠 라이브 이후 검수 (\"+country+\").xlsx\")\n",
    "    url_after_check_ws = url_after_check_wb['검수']\n",
    "\n",
    "    # 검수\n",
    "    s_char='=+,#?:^$.@*\"※~&%ㆍ!』\\‘|()[]<>`…》'\n",
    "    for i in range(url_after_check_raw.shape[0]):\n",
    "        url_pre = url_after_check_raw['URL'][i]\n",
    "        url_pre_1 = url_pre.replace(\"/\",\"\")\n",
    "        url_pre_2 = url_pre_1.replace(\"-\",\"\")\n",
    "        url_pre_3 = url_pre_2.replace(\".\",\"\")\n",
    "        url_pre_4 = url_pre_3.replace(\":\",\"\")\n",
    "        if any(url_string in url_pre_4 for url_string in s_char):\n",
    "            url_after_check_ws['C'+str(i+2)] = \"X\"\n",
    "        else:\n",
    "            url_after_check_ws['C'+str(i+2)] = \"O\"\n",
    "    \n",
    "    # 저장\n",
    "    url_after_check_wb.save(save_address+\"/\"+\"2차, 3차 음성 검색 콘텐츠 라이브 이후 검수 (\"+country+\").xlsx\")\n",
    "    \n",
    "    # 결과\n",
    "    count_num += 1\n",
    "    print(count_num,\". {} 의, URL 구조 항목 검수가 완료되었습니다.\".format(country))"
   ]
  },
  {
   "cell_type": "markdown",
   "metadata": {},
   "source": [
    "## 2. 캐노니컬"
   ]
  },
  {
   "cell_type": "code",
   "execution_count": 6,
   "metadata": {},
   "outputs": [
    {
     "name": "stdout",
     "output_type": "stream",
     "text": [
      "1 . FJ 의, 캐노니컬 항목 검수가 완료되었습니다.\n",
      "2 . KW 의, 캐노니컬 항목 검수가 완료되었습니다.\n",
      "3 . HK 의, 캐노니컬 항목 검수가 완료되었습니다.\n"
     ]
    }
   ],
   "source": [
    "count_num = 0\n",
    "\n",
    "for country in countrys:\n",
    "    \n",
    "    # 불러오기 1차\n",
    "    cano_after_check_raw = pd.read_excel(save_address+\"/\"+\n",
    "                                        \"2차, 3차 음성 검색 콘텐츠 라이브 이후 검수 (\"+country+\").xlsx\",\n",
    "                                        sheet_name =\"검수 Raw\")\n",
    "    \n",
    "    # 불러오기 2차\n",
    "    cano_after_check_wb = openpyxl.load_workbook(save_address+\"/\"+\n",
    "                                                 \"2차, 3차 음성 검색 콘텐츠 라이브 이후 검수 (\"+country+\").xlsx\")\n",
    "    cano_after_check_ws = cano_after_check_wb['검수']\n",
    "\n",
    "    # 검수\n",
    "    for i in range(cano_after_check_raw.shape[0]):\n",
    "        cano_equal = cano_after_check_raw['URL'][i] == cano_after_check_raw['캐노니컬'][i]\n",
    "        if cano_equal == True: \n",
    "            cano_after_check_ws['D'+str(i+2)] = \"O\"\n",
    "        else:\n",
    "            cano_after_check_ws['D'+str(i+2)] = \"X\"\n",
    "            \n",
    "    # 저장\n",
    "    cano_after_check_wb.save(save_address+\"/\"+\"2차, 3차 음성 검색 콘텐츠 라이브 이후 검수 (\"+country+\").xlsx\")\n",
    "    \n",
    "    # 결과\n",
    "    count_num += 1\n",
    "    print(count_num,\". {} 의, 캐노니컬 항목 검수가 완료되었습니다.\".format(country))"
   ]
  },
  {
   "cell_type": "markdown",
   "metadata": {},
   "source": [
    "## 3. 타이틀"
   ]
  },
  {
   "cell_type": "code",
   "execution_count": 7,
   "metadata": {
    "scrolled": true
   },
   "outputs": [
    {
     "name": "stdout",
     "output_type": "stream",
     "text": [
      "1 . FJ 의, 타이틀 항목 검수가 완료되었습니다.\n",
      "2 . KW 의, 타이틀 항목 검수가 완료되었습니다.\n",
      "3 . HK 의, 타이틀 항목 검수가 완료되었습니다.\n"
     ]
    }
   ],
   "source": [
    "count_num = 0\n",
    "\n",
    "for country in countrys:\n",
    "    \n",
    "    # 불러오기 1차\n",
    "    title_after_check_raw = pd.read_excel(save_address+\"/\"+\n",
    "                                        \"2차, 3차 음성 검색 콘텐츠 라이브 이후 검수 (\"+country+\").xlsx\",\n",
    "                                        sheet_name =\"검수 Raw\")\n",
    "    \n",
    "    # 불러오기 2차\n",
    "    title_after_check_wb = openpyxl.load_workbook(save_address+\"/\"+\n",
    "                                                 \"2차, 3차 음성 검색 콘텐츠 라이브 이후 검수 (\"+country+\").xlsx\")\n",
    "    title_after_check_ws = title_after_check_wb['검수']\n",
    "\n",
    "    # 검수\n",
    "    for i in range(title_after_check_raw.shape[0]):\n",
    "        title_equal = title_after_check_raw['URL'][i]\n",
    "        title_equal_1 = title_equal.replace(\"https://www.kia.com/\"+country.lower()+\"/discover-kia/ask/\",\"\")\n",
    "        title_equal_2 = title_equal_1.replace(\".html\",\"\")\n",
    "        title_equal_3 = title_equal_2.replace(\"-\",\" \").lower()\n",
    "        if title_equal_3 in title_after_check_raw['타이틀'][i].lower(): \n",
    "            title_after_check_ws['E'+str(i+2)] = \"O\"\n",
    "        else:\n",
    "            title_after_check_ws['E'+str(i+2)] = \"X\"\n",
    "            \n",
    "    # 저장\n",
    "    title_after_check_wb.save(save_address+\"/\"+\"2차, 3차 음성 검색 콘텐츠 라이브 이후 검수 (\"+country+\").xlsx\")\n",
    "    \n",
    "    # 결과\n",
    "    count_num += 1\n",
    "    print(count_num,\". {} 의, 타이틀 항목 검수가 완료되었습니다.\".format(country))"
   ]
  },
  {
   "cell_type": "markdown",
   "metadata": {},
   "source": [
    "## 4. 디스크립션 - 직접 타이틀과 비교해서 진행해야 함"
   ]
  },
  {
   "cell_type": "markdown",
   "metadata": {},
   "source": [
    "## 5. OG(site name, Type, Title, Description, URL)"
   ]
  },
  {
   "cell_type": "code",
   "execution_count": 8,
   "metadata": {
    "scrolled": true
   },
   "outputs": [
    {
     "name": "stdout",
     "output_type": "stream",
     "text": [
      "1 . FJ 의, OG 항목 검수가 완료되었습니다.\n",
      "2 . KW 의, OG 항목 검수가 완료되었습니다.\n",
      "3 . HK 의, OG 항목 검수가 완료되었습니다.\n"
     ]
    }
   ],
   "source": [
    "count_num = 0\n",
    "\n",
    "for country in countrys:\n",
    "    \n",
    "    # 불러오기 1차\n",
    "    og_after_check_raw = pd.read_excel(save_address+\"/\"+\n",
    "                                        \"2차, 3차 음성 검색 콘텐츠 라이브 이후 검수 (\"+country+\").xlsx\",\n",
    "                                        sheet_name =\"검수 Raw\")\n",
    "    \n",
    "    # 불러오기 2차\n",
    "    og_after_check_wb = openpyxl.load_workbook(save_address+\"/\"+\n",
    "                                                 \"2차, 3차 음성 검색 콘텐츠 라이브 이후 검수 (\"+country+\").xlsx\")\n",
    "    og_after_check_ws = og_after_check_wb['검수']\n",
    "\n",
    "    # Site name 검수\n",
    "    for i in range(og_after_check_raw.shape[0]):\n",
    "        if og_after_check_raw['OG(Site name)'][i].lower() in og_after_check_raw['타이틀'][i].lower():\n",
    "            og_after_check_ws['G'+str(i+2)] = \"O\"\n",
    "        else:\n",
    "            og_after_check_ws['G'+str(i+2)] = \"X\"\n",
    "            \n",
    "    # Type 검수\n",
    "    for i in range(og_after_check_raw.shape[0]):\n",
    "        if og_after_check_raw['OG(Type)'][i] == 'website':\n",
    "            og_after_check_ws['H'+str(i+2)] = \"O\"\n",
    "        else:\n",
    "            og_after_check_ws['H'+str(i+2)] = \"X\"\n",
    "    \n",
    "    # Title 검수\n",
    "    for i in range(og_after_check_raw.shape[0]):\n",
    "        if og_after_check_raw['OG(Title)'][i] == og_after_check_raw['타이틀'][i]:\n",
    "            og_after_check_ws['I'+str(i+2)] = \"O\"\n",
    "        else:\n",
    "            og_after_check_ws['I'+str(i+2)] = \"X\"\n",
    "    \n",
    "    # Description 검수\n",
    "    for i in range(og_after_check_raw.shape[0]):\n",
    "        if og_after_check_raw['OG(Description)'][i] == og_after_check_raw['디스크립션'][i]:\n",
    "            og_after_check_ws['J'+str(i+2)] = \"O\"\n",
    "        else:\n",
    "            og_after_check_ws['J'+str(i+2)] = \"X\"\n",
    "    \n",
    "    # URL 검수\n",
    "    for i in range(og_after_check_raw.shape[0]):\n",
    "        if og_after_check_raw['OG(URL)'][i] == og_after_check_raw['URL'][i]:\n",
    "            og_after_check_ws['K'+str(i+2)] = \"O\"\n",
    "        else:\n",
    "            og_after_check_ws['K'+str(i+2)] = \"X\"\n",
    "    \n",
    "    # 저장\n",
    "    og_after_check_wb.save(save_address+\"/\"+\"2차, 3차 음성 검색 콘텐츠 라이브 이후 검수 (\"+country+\").xlsx\")\n",
    "    \n",
    "    # 결과\n",
    "    count_num += 1\n",
    "    print(count_num,\". {} 의, OG 항목 검수가 완료되었습니다.\".format(country))"
   ]
  },
  {
   "cell_type": "markdown",
   "metadata": {},
   "source": [
    "## 6. Twitter(Site, Title, Description, URL, Image, Twitter Card)"
   ]
  },
  {
   "cell_type": "code",
   "execution_count": 9,
   "metadata": {},
   "outputs": [
    {
     "name": "stdout",
     "output_type": "stream",
     "text": [
      "1 . FJ 의, Twitter 항목 검수가 완료되었습니다.\n",
      "2 . KW 의, Twitter 항목 검수가 완료되었습니다.\n",
      "3 . HK 의, Twitter 항목 검수가 완료되었습니다.\n"
     ]
    }
   ],
   "source": [
    "count_num = 0\n",
    "\n",
    "for country in countrys:\n",
    "    \n",
    "    # 불러오기 1차\n",
    "    twitter_after_check_raw = pd.read_excel(save_address+\"/\"+\n",
    "                                        \"2차, 3차 음성 검색 콘텐츠 라이브 이후 검수 (\"+country+\").xlsx\",\n",
    "                                        sheet_name =\"검수 Raw\")\n",
    "    \n",
    "    # 불러오기 2차\n",
    "    twitter_after_check_wb = openpyxl.load_workbook(save_address+\"/\"+\n",
    "                                                 \"2차, 3차 음성 검색 콘텐츠 라이브 이후 검수 (\"+country+\").xlsx\")\n",
    "    twitter_after_check_ws = twitter_after_check_wb['검수']\n",
    "\n",
    "    # Site 검수\n",
    "    for i in range(twitter_after_check_raw.shape[0]):\n",
    "        if twitter_after_check_raw['Twitter(Site)'][i] in twitter_after_check_raw['타이틀'][i]:\n",
    "            twitter_after_check_ws['L'+str(i+2)] = \"O\"\n",
    "        else:\n",
    "            twitter_after_check_ws['L'+str(i+2)] = \"X\"\n",
    "            \n",
    "    # Title 검수\n",
    "    for i in range(twitter_after_check_raw.shape[0]):\n",
    "        if twitter_after_check_raw['Twitter(Title)'][i] == twitter_after_check_raw['타이틀'][i]:\n",
    "            twitter_after_check_ws['M'+str(i+2)] = \"O\"\n",
    "        else:\n",
    "            twitter_after_check_ws['M'+str(i+2)] = \"X\"\n",
    "    \n",
    "    # Description 검수\n",
    "    for i in range(twitter_after_check_raw.shape[0]):\n",
    "        if twitter_after_check_raw['Twitter(Description)'][i] == twitter_after_check_raw['디스크립션'][i]:\n",
    "            twitter_after_check_ws['N'+str(i+2)] = \"O\"\n",
    "        else:\n",
    "            twitter_after_check_ws['N'+str(i+2)] = \"X\"\n",
    "            \n",
    "    # URL 검수\n",
    "    for i in range(twitter_after_check_raw.shape[0]):\n",
    "        if twitter_after_check_raw['Twitter(URL)'][i] == twitter_after_check_raw['URL'][i]:\n",
    "            twitter_after_check_ws['O'+str(i+2)] = \"O\"\n",
    "        else:\n",
    "            twitter_after_check_ws['O'+str(i+2)] = \"X\"\n",
    "            \n",
    "    # Image 검수\n",
    "    for i in range(twitter_after_check_raw.shape[0]):\n",
    "        if twitter_after_check_raw['Twitter(Image)'].isna()[i] == False:\n",
    "            twitter_after_check_ws['P'+str(i+2)] = \"O\"\n",
    "        else:\n",
    "            twitter_after_check_ws['P'+str(i+2)] = \"X\"\n",
    "            \n",
    "    # Twitter Card\n",
    "    for i in range(twitter_after_check_raw.shape[0]):\n",
    "        if twitter_after_check_raw['Twitter(Twitter Card)'].isna()[i] == False:\n",
    "            twitter_after_check_ws['Q'+str(i+2)] = \"O\"\n",
    "        else:\n",
    "            twitter_after_check_ws['Q'+str(i+2)] = \"X\"\n",
    "    \n",
    "    # 저장\n",
    "    twitter_after_check_wb.save(save_address+\"/\"+\"2차, 3차 음성 검색 콘텐츠 라이브 이후 검수 (\"+country+\").xlsx\")\n",
    "    \n",
    "    # 결과\n",
    "    count_num += 1\n",
    "    print(count_num,\". {} 의, Twitter 항목 검수가 완료되었습니다.\".format(country))"
   ]
  },
  {
   "cell_type": "markdown",
   "metadata": {},
   "source": [
    "## 7. Schema(Name, Description, URL, Breadcrumb, type)"
   ]
  },
  {
   "cell_type": "code",
   "execution_count": 10,
   "metadata": {
    "scrolled": true
   },
   "outputs": [
    {
     "name": "stdout",
     "output_type": "stream",
     "text": [
      "1 . FJ 의, schema 항목 검수가 완료되었습니다.\n",
      "2 . KW 의, schema 항목 검수가 완료되었습니다.\n",
      "3 . HK 의, schema 항목 검수가 완료되었습니다.\n"
     ]
    }
   ],
   "source": [
    "count_num = 0\n",
    "\n",
    "for country in countrys:\n",
    "    \n",
    "    # 불러오기 1차\n",
    "    schema_after_check_raw = pd.read_excel(save_address+\"/\"+\n",
    "                                        \"2차, 3차 음성 검색 콘텐츠 라이브 이후 검수 (\"+country+\").xlsx\",\n",
    "                                        sheet_name =\"검수 Raw\")\n",
    "    \n",
    "    # 불러오기 2차\n",
    "    schema_after_check_wb = openpyxl.load_workbook(save_address+\"/\"+\n",
    "                                                 \"2차, 3차 음성 검색 콘텐츠 라이브 이후 검수 (\"+country+\").xlsx\")\n",
    "    schema_after_check_ws = schema_after_check_wb['검수']\n",
    "\n",
    "    # Name 검수\n",
    "    for i in range(schema_after_check_raw.shape[0]):\n",
    "        if schema_after_check_raw['Schema(Name)'][i] == schema_after_check_raw['타이틀'][i]:\n",
    "            schema_after_check_ws['R'+str(i+2)] = \"O\"\n",
    "        else:\n",
    "            schema_after_check_ws['R'+str(i+2)] = \"X\"\n",
    "\n",
    "    # Description 검수\n",
    "    for i in range(schema_after_check_raw.shape[0]):\n",
    "        if schema_after_check_raw['Schema(Description)'][i] == schema_after_check_raw['디스크립션'][i]:\n",
    "            schema_after_check_ws['S'+str(i+2)] = \"O\"\n",
    "        else:\n",
    "            schema_after_check_ws['S'+str(i+2)] = \"X\"\n",
    "            \n",
    "    # URL 검수\n",
    "    for i in range(schema_after_check_raw.shape[0]):\n",
    "        if schema_after_check_raw['Schema(URL)'][i] == schema_after_check_raw['URL'][i]:\n",
    "            schema_after_check_ws['T'+str(i+2)] = \"O\"\n",
    "        else:\n",
    "            schema_after_check_ws['T'+str(i+2)] = \"X\"\n",
    "    \n",
    "    # Breadcrumb 검수\n",
    "    for i in range(schema_after_check_raw.shape[0]):\n",
    "        if schema_after_check_raw['Schema(Breadcrumb)'][i] == 'BreadcrumbList':\n",
    "            schema_after_check_ws['U'+str(i+2)] = \"O\"\n",
    "        else:\n",
    "            schema_after_check_ws['U'+str(i+2)] = \"X\"\n",
    "    \n",
    "    # type 검수\n",
    "    for i in range(schema_after_check_raw.shape[0]):\n",
    "        if schema_after_check_raw['Schema(type)'][i] == 'WebPage':\n",
    "            schema_after_check_ws['V'+str(i+2)] = \"O\"\n",
    "        else:\n",
    "            schema_after_check_ws['V'+str(i+2)] = \"X\"\n",
    "    \n",
    "    # 저장\n",
    "    schema_after_check_wb.save(save_address+\"/\"+\"2차, 3차 음성 검색 콘텐츠 라이브 이후 검수 (\"+country+\").xlsx\")\n",
    "    \n",
    "    # 결과\n",
    "    count_num += 1\n",
    "    print(count_num,\". {} 의, schema 항목 검수가 완료되었습니다.\".format(country))"
   ]
  },
  {
   "cell_type": "markdown",
   "metadata": {},
   "source": [
    "## 8. H tag(H1, H2_1, H2_2) - 직접 싸이트에 들어가서 확인"
   ]
  },
  {
   "cell_type": "code",
   "execution_count": 11,
   "metadata": {},
   "outputs": [
    {
     "name": "stdout",
     "output_type": "stream",
     "text": [
      "1 . FJ 의, H tag 항목 검수가 완료되었습니다.\n",
      "2 . KW 의, H tag 항목 검수가 완료되었습니다.\n",
      "3 . HK 의, H tag 항목 검수가 완료되었습니다.\n"
     ]
    }
   ],
   "source": [
    "count_num = 0\n",
    "\n",
    "for country in countrys:\n",
    "    \n",
    "    # 불러오기 1차\n",
    "    htag_after_check_raw = pd.read_excel(save_address+\"/\"+\n",
    "                                        \"2차, 3차 음성 검색 콘텐츠 라이브 이후 검수 (\"+country+\").xlsx\",\n",
    "                                        sheet_name =\"검수 Raw\")\n",
    "    \n",
    "    # 불러오기 2차\n",
    "    htag_after_check_wb = openpyxl.load_workbook(save_address+\"/\"+\n",
    "                                                 \"2차, 3차 음성 검색 콘텐츠 라이브 이후 검수 (\"+country+\").xlsx\")\n",
    "    htag_after_check_ws = htag_after_check_wb['검수']\n",
    "    \n",
    "    # H1 tag 검수\n",
    "    for i in range(htag_after_check_raw.shape[0]):\n",
    "        if htag_after_check_raw['H tag(H1)'].isna()[i] == False:\n",
    "            htag_after_check_ws['W'+str(i+2)] = \"O\"\n",
    "        else:\n",
    "            htag_after_check_ws['W'+str(i+2)] = \"X\"\n",
    "    \n",
    "    # H2-1 tag 검수\n",
    "    for i in range(htag_after_check_raw.shape[0]):\n",
    "        if htag_after_check_raw['H tag(H2-1)'].isna()[i] == False:\n",
    "            htag_after_check_ws['X'+str(i+2)] = \"O\"\n",
    "        else:\n",
    "            htag_after_check_ws['X'+str(i+2)] = \"X\"\n",
    "    \n",
    "    # H2-2 tag 검수\n",
    "    for i in range(htag_after_check_raw.shape[0]):\n",
    "        if htag_after_check_raw['H tag(H2-2)'].isna()[i] == False:\n",
    "            htag_after_check_ws['Y'+str(i+2)] = \"O\"\n",
    "        else:\n",
    "            htag_after_check_ws['Y'+str(i+2)] = \"X\"\n",
    "            \n",
    "    # 저장\n",
    "    htag_after_check_wb.save(save_address+\"/\"+\"2차, 3차 음성 검색 콘텐츠 라이브 이후 검수 (\"+country+\").xlsx\")\n",
    "    \n",
    "    # 결과\n",
    "    count_num += 1\n",
    "    print(count_num,\". {} 의, H tag 항목 검수가 완료되었습니다.\".format(country))"
   ]
  },
  {
   "cell_type": "markdown",
   "metadata": {},
   "source": [
    "## 9. Hreflang(preprocessing)"
   ]
  },
  {
   "cell_type": "code",
   "execution_count": 12,
   "metadata": {
    "scrolled": true
   },
   "outputs": [
    {
     "name": "stdout",
     "output_type": "stream",
     "text": [
      "1 . FJ 의, hreflang raw 항목 검수가 완료되었습니다.\n",
      "2 . KW 의, hreflang raw 항목 검수가 완료되었습니다.\n",
      "3 . HK 의, hreflang raw 항목 검수가 완료되었습니다.\n"
     ]
    }
   ],
   "source": [
    "count_num = 0\n",
    "\n",
    "for country in countrys:\n",
    "    \n",
    "    # 불러오기 1차\n",
    "    href_after_raw = pd.read_excel(href_raw_address+\"/\"+country+\" hreflang_all.xlsx\",\n",
    "                                   sheet_name = \"1 - All\")\n",
    "\n",
    "    \n",
    "    # 불러오기 2차\n",
    "    after_check = pd.read_excel(save_address+\"/\"+\"2차, 3차 음성 검색 콘텐츠 라이브 이후 검수 (\"\n",
    "                                +country+\").xlsx\", sheet_name =\"검수\")\n",
    "    \n",
    "    \n",
    "    # null 행 제거\n",
    "    not_null_index = href_after_raw['Sitemap hreflang 1 URL'].dropna().index\n",
    "    not_null_raw = href_after_raw.iloc[not_null_index]\n",
    "    \n",
    "    # index 재설정\n",
    "    not_null_raw = not_null_raw.reset_index().drop('index', axis=1)\n",
    "    \n",
    "    # 포함하지 않는 URL 찾기\n",
    "    drop_idx = []\n",
    "    for idx in range(not_null_raw.shape[0]):\n",
    "        not_null_raw_true = not_null_raw['Address'][idx] == after_check['URL']\n",
    "        not_null_raw_sum = not_null_raw_true.sum()\n",
    "        if not_null_raw_sum == 0:\n",
    "            drop_idx.append(idx)\n",
    "    \n",
    "    # 포함하지 않는 URL 제거 후 \n",
    "    not_null_raw = not_null_raw.drop(index=drop_idx)\n",
    "    \n",
    "    # index 재설정\n",
    "    not_null_raw = not_null_raw.reset_index().drop('index', axis=1)\n",
    "    \n",
    "    # 검수 전 column명 저장하기\n",
    "    all_cols = not_null_raw.columns\n",
    "    \n",
    "    # HTML hreflang 1 URL 검수\n",
    "    not_null_raw['HTML hreflang 1 check'] = not_null_raw['HTML hreflang 1 URL'] == \\\n",
    "    'https://www.kia.com/worldwide/main.do'            \n",
    "    \n",
    "    # HTML hreflang 2 URL 검수\n",
    "    not_null_raw['HTML hreflang 2 check'] = not_null_raw['HTML hreflang 2 URL'] == \\\n",
    "    'https://www.kia.com/'+country.lower()+'/main.html'\n",
    "    \n",
    "    # Sitemap hreflang URL 검수\n",
    "    for i in range(1,31):\n",
    "        \n",
    "        as_href = not_null_raw['Sitemap hreflang '+str(i)].str.split('-', n=1, expand=True).iloc[0,1]\n",
    "        \n",
    "        if i == 19:\n",
    "            as_href = 'om/en' \n",
    "        elif i == 20:\n",
    "            as_href = 'om/ar'\n",
    "        elif i == 21: \n",
    "            as_href = 'sa/en'\n",
    "        elif i == 22:\n",
    "            as_href = 'sa/ar' \n",
    "        elif i == 23:\n",
    "            as_href = 'sd/en'\n",
    "        elif i == 24:\n",
    "            as_href = 'sd/ar'\n",
    "            \n",
    "        for j in range(not_null_raw.shape[0]):\n",
    "            # Address URL과 Sitemap hreflang URL 비교\n",
    "            address_url_equal = not_null_raw['Address'][j].replace(\"https://www.kia.com/\"+\n",
    "                                                                   country.lower()+\"/discover-kia/ask/\", \"\")\n",
    "            address_url_equal_1 = address_url_equal.replace(\".html\",\"\")\n",
    "\n",
    "            sitemap_hreflang_equal = not_null_raw['Sitemap hreflang '+\n",
    "                                                  str(i)+' URL'][j].replace(\"https://www.kia.com/\"+\n",
    "                                                                            as_href+\"/discover-kia/ask/\",\"\")\n",
    "            sitemap_hreflang_equal_1 =  sitemap_hreflang_equal.replace(\".html\",\"\")\n",
    "\n",
    "            # Address URL과 Sitemap hreflang URL 검수\n",
    "            if address_url_equal_1 == sitemap_hreflang_equal_1:\n",
    "                not_null_raw['Sitemap hreflang '+str(i)+'URL check'] = \"O\"\n",
    "            else:\n",
    "                not_null_raw['Sitemap hreflang '+str(i)+'URL check'] = \"X\"\n",
    "    \n",
    "    # columns 정리\n",
    "    all_cols = all_cols.drop('Address')\n",
    "    not_null_raw = not_null_raw.drop(not_null_raw[all_cols], axis=1)\n",
    "    \n",
    "    # 저장 1차\n",
    "    not_null_raw.to_excel(href_raw_address+\"/\"+country+\" hreflang_all_raw_check.xlsx\",\n",
    "                          sheet_name='hreflang 검수')\n",
    "    \n",
    "    # raw 파일 저장\n",
    "    with pd.ExcelWriter(href_raw_address+\"/\"+country+\" hreflang_all_raw_check.xlsx\",\n",
    "                        mode='a', engine='openpyxl') as writer:\n",
    "        href_after_raw.to_excel(writer, sheet_name='1 - All', index=False)\n",
    "        \n",
    "    # 결과\n",
    "    count_num += 1\n",
    "    print(count_num,\". {} 의, hreflang raw 항목 검수가 완료되었습니다.\".format(country))"
   ]
  },
  {
   "cell_type": "markdown",
   "metadata": {},
   "source": [
    "## 10. CTA - 직접 싸이트에 들어가서 확인"
   ]
  },
  {
   "cell_type": "markdown",
   "metadata": {},
   "source": [
    "## 11. 내비게이션 버튼 - 직접 싸이트에 들어가서 확인"
   ]
  },
  {
   "cell_type": "markdown",
   "metadata": {},
   "source": [
    "## 12. 콘텐츠"
   ]
  },
  {
   "cell_type": "markdown",
   "metadata": {},
   "source": [
    "## 파일 합치기 및 꾸미기"
   ]
  },
  {
   "cell_type": "code",
   "execution_count": 54,
   "metadata": {
    "scrolled": true
   },
   "outputs": [],
   "source": [
    "# 불러오기 1차(하나하나 불러와서 넣어야 함)\n",
    "fj_check = pd.read_excel(save_address+\"/\"+\"2차, 3차 음성 검색 콘텐츠 라이브 이후 검수 (FJ).xlsx\",sheet_name=\"검수\")\n",
    "hk_check = pd.read_excel(save_address+\"/\"+\"2차, 3차 음성 검색 콘텐츠 라이브 이후 검수 (HK).xlsx\",sheet_name=\"검수\")\n",
    "kw_check = pd.read_excel(save_address+\"/\"+\"2차, 3차 음성 검색 콘텐츠 라이브 이후 검수 (KW).xlsx\",sheet_name=\"검수\")\n",
    "\n",
    "# 합치기\n",
    "total_check = pd.concat([fj_check, hk_check, kw_check], axis=0, join=\"outer\")\n",
    "\n",
    "# 저장 1차\n",
    "total_check.to_excel(save_address+\"/\"+\"2차, 3차 음성 검색 콘텐츠 라이브 이후 검수.xlsx\",\n",
    "                     sheet_name=\"검수\", index=False, engine='openpyxl')\n",
    "\n",
    "# 불러오기 2차\n",
    "total_check_wb = openpyxl.load_workbook(save_address+\"/\"+\"2차, 3차 음성 검색 콘텐츠 라이브 이후 검수.xlsx\")\n",
    "total_check_ws = total_check_wb[\"검수\"]\n",
    "\n",
    "# 수정하기\n",
    "total_check_ws.insert_rows(1)\n",
    "\n",
    "# 1행\n",
    "total_check_ws.merge_cells('A1:A2')\n",
    "total_check_ws['A1'] = \"국가명\"\n",
    "total_check_ws['A1'].font = Font(size=11, bold=True)\n",
    "total_check_ws['A1'].alignment = Alignment(horizontal='center', vertical='center')\n",
    "\n",
    "total_check_ws.merge_cells('B1:B2')\n",
    "total_check_ws['B1'] = \"URL\"\n",
    "total_check_ws['B1'].font = Font(size=11, bold=True)\n",
    "total_check_ws['B1'].alignment = Alignment(horizontal='center', vertical='center')\n",
    "\n",
    "total_check_ws.merge_cells('C1:C2')\n",
    "total_check_ws['C1'] = \"URL 구조\"\n",
    "total_check_ws['C1'].font = Font(size=11, bold=True)\n",
    "total_check_ws['C1'].alignment = Alignment(horizontal='center', vertical='center')\n",
    "\n",
    "total_check_ws.merge_cells('D1:D2')\n",
    "total_check_ws['D1'] = \"캐노니컬\"\n",
    "total_check_ws['D1'].font = Font(size=11, bold=True)\n",
    "total_check_ws['D1'].alignment = Alignment(horizontal='center', vertical='center')\n",
    "\n",
    "\n",
    "total_check_ws.merge_cells('E1:E2')\n",
    "total_check_ws['E1'] = \"타이틀\"\n",
    "total_check_ws['E1'].font = Font(size=11, bold=True)\n",
    "total_check_ws['E1'].alignment = Alignment(horizontal='center', vertical='center')\n",
    "\n",
    "total_check_ws.merge_cells('F1:F2')\n",
    "total_check_ws['F1'] = \"디스크립션\"\n",
    "total_check_ws['F1'].font = Font(size=11, bold=True)\n",
    "total_check_ws['F1'].alignment = Alignment(horizontal='center', vertical='center')\n",
    "\n",
    "total_check_ws.merge_cells('G1:K1')\n",
    "total_check_ws['G1'] = \"OG\"\n",
    "total_check_ws['G1'].font = Font(size=11, bold=True)\n",
    "total_check_ws['G1'].alignment = Alignment(horizontal='center', vertical='center')\n",
    "\n",
    "total_check_ws.merge_cells('L1:Q1')\n",
    "total_check_ws['L1'] = \"Twitter\"\n",
    "total_check_ws['L1'].font = Font(size=11, bold=True)\n",
    "total_check_ws['L1'].alignment = Alignment(horizontal='center', vertical='center')\n",
    "\n",
    "total_check_ws.merge_cells('R1:V1')\n",
    "total_check_ws['R1'] = \"Schema\"\n",
    "total_check_ws['R1'].font = Font(size=11, bold=True)\n",
    "total_check_ws['R1'].alignment = Alignment(horizontal='center', vertical='center')\n",
    "\n",
    "total_check_ws.merge_cells('W1:Y1')\n",
    "total_check_ws['W1'] = \"H tag\"\n",
    "total_check_ws['W1'].font = Font(size=11, bold=True)\n",
    "total_check_ws['W1'].alignment = Alignment(horizontal='center', vertical='center')\n",
    "\n",
    "total_check_ws.merge_cells('Z1:Z2')\n",
    "total_check_ws['Z1'] = \"Hreflang\"\n",
    "total_check_ws['Z1'].font = Font(size=11, bold=True)\n",
    "total_check_ws['Z1'].alignment = Alignment(horizontal='center', vertical='center')\n",
    "\n",
    "total_check_ws.merge_cells('AA1:AA2')\n",
    "total_check_ws['AA1'] = \"CTA\"\n",
    "total_check_ws['AA1'].font = Font(size=11, bold=True)\n",
    "total_check_ws['AA1'].alignment = Alignment(horizontal='center', vertical='center')\n",
    "\n",
    "total_check_ws.merge_cells('AB1:AB2')\n",
    "total_check_ws['AB1'] = \"내비게이션 버튼\"\n",
    "total_check_ws['AB1'].font = Font(size=11, bold=True)\n",
    "total_check_ws['AB1'].alignment = Alignment(horizontal='center', vertical='center')\n",
    "\n",
    "total_check_ws.merge_cells('AC1:AC2')\n",
    "total_check_ws['AC1'] = \"콘텐츠\"\n",
    "total_check_ws['AC1'].font = Font(size=11, bold=True)\n",
    "total_check_ws['AC1'].alignment = Alignment(horizontal='center', vertical='center')\n",
    "\n",
    "# 2행\n",
    "col = ['A','B','C','D','E','F','G','H','I','J','K','L','M','N','O','P','Q','R','S','T','U','V','W','X','Y','Z']\n",
    "\n",
    "for i in col[6:25]:\n",
    "    total_check_ws[str(i)+'2'].font = Font(size=11, bold=False)\n",
    "# total_check_ws['AA2:AC2']\n",
    "\n",
    "# 색 채워넣기\n",
    "for i in col:\n",
    "    total_check_ws[str(i)+'1'].fill = PatternFill(patternType='solid', fgColor=Color('ddebf7'))\n",
    "    total_check_ws[str(i)+'2'].fill = PatternFill(patternType='solid', fgColor=Color('ddebf7'))\n",
    "total_check_ws['AA1'].fill = PatternFill(patternType='solid', fgColor=Color('ddebf7'))\n",
    "total_check_ws['AB1'].fill = PatternFill(patternType='solid', fgColor=Color('ddebf7'))\n",
    "total_check_ws['AC1'].fill = PatternFill(patternType='solid', fgColor=Color('ddebf7'))\n",
    "\n",
    "\n",
    "# 크기 조정\n",
    "total_check_ws.column_dimensions['A'].width = 6.25\n",
    "total_check_ws.column_dimensions['B'].width = 83\n",
    "total_check_ws.column_dimensions['C'].width = 8.5\n",
    "total_check_ws.column_dimensions['D'].width = 8.08\n",
    "total_check_ws.column_dimensions['E'].width = 6.25\n",
    "total_check_ws.column_dimensions['F'].width = 10\n",
    "total_check_ws.column_dimensions['G'].width = 13\n",
    "total_check_ws.column_dimensions['H'].width = 8.42\n",
    "total_check_ws.column_dimensions['I'].width = 7.92\n",
    "total_check_ws.column_dimensions['J'].width = 14.17\n",
    "total_check_ws.column_dimensions['K'].width = 7.67\n",
    "total_check_ws.column_dimensions['L'].width = 10.67\n",
    "total_check_ws.column_dimensions['M'].width = 11.17\n",
    "total_check_ws.column_dimensions['N'].width = 17.5\n",
    "total_check_ws.column_dimensions['O'].width = 10.83\n",
    "total_check_ws.column_dimensions['P'].width = 12.83\n",
    "total_check_ws.column_dimensions['Q'].width = 18.42\n",
    "total_check_ws.column_dimensions['R'].width = 13.33\n",
    "total_check_ws.column_dimensions['S'].width = 18.17\n",
    "total_check_ws.column_dimensions['T'].width = 11.58\n",
    "total_check_ws.column_dimensions['U'].width = 18.83\n",
    "total_check_ws.column_dimensions['V'].width = 12\n",
    "total_check_ws.column_dimensions['W'].width = 8.75\n",
    "total_check_ws.column_dimensions['X'].width = 10.58\n",
    "total_check_ws.column_dimensions['Y'].width = 10.58\n",
    "total_check_ws.column_dimensions['Z'].width = 8.33\n",
    "total_check_ws.column_dimensions['AA'].width = 8.25\n",
    "total_check_ws.column_dimensions['AB'].width = 14.58\n",
    "total_check_ws.column_dimensions['AC'].width = 8.08\n",
    "\n",
    "# 고정\n",
    "total_check_ws.freeze_panes = \"B3\"\n",
    "\n",
    "# 저장 2차\n",
    "total_check_wb.save(save_address+\"/\"+\"2차, 3차 음성 검색 콘텐츠 라이브 이후 검수.xlsx\")"
   ]
  },
  {
   "cell_type": "markdown",
   "metadata": {},
   "source": [
    "## 전처리(나라별 파일 생성) - Frog로 다운로드 전"
   ]
  },
  {
   "cell_type": "code",
   "execution_count": 13,
   "metadata": {},
   "outputs": [],
   "source": [
    "# count_num = 0\n",
    "\n",
    "# # 불러오기 1차\n",
    "# after_check = pd.read_excel(save_address+\"/\"+\"2차, 3차 음성 검색 콘텐츠 라이브 이후 검수 (국가).xlsx\",\n",
    "#                             sheet_name =\"검수\")\n",
    "\n",
    "# after_check_raw = pd.read_excel(save_address+\"/\"+\"2차, 3차 음성 검색 콘텐츠 라이브 이후 검수 (국가).xlsx\",\n",
    "#                                 sheet_name =\"검수 Raw\")\n",
    "\n",
    "# # 변경할 나라이름 생성\n",
    "# rep_countrys = ['AW']\n",
    "# rep_countrys.extend(countrys)\n",
    "\n",
    "# # URL 생성\n",
    "# for country, rep_country in zip(countrys, rep_countrys):\n",
    "#     for i in range(after_check.shape[0]):\n",
    "#         # 파일 생성\n",
    "#         after_check['URL'][i] = after_check['URL'][i].replace('/'+rep_country.lower()+'/', '/'+country.lower()+'/')\n",
    "        \n",
    "#     # 저장 및 생성(engine을 openpyxl로 하면 하이퍼링크가 제거되서 나옴)\n",
    "#     after_check.to_excel(save_address+\"/\"+\"2차, 3차 음성 검색 콘텐츠 라이브 이후 검수 (\"+country+\").xlsx\",\n",
    "#                          index=False, sheet_name='검수')\n",
    "    \n",
    "#     # 검수 raw sheet 추가하기\n",
    "#     with pd.ExcelWriter(save_address+\"/\"+\"2차, 3차 음성 검색 콘텐츠 라이브 이후 검수 (\"+country+\").xlsx\",\n",
    "#                         mode='a', engine='openpyxl') as writer:\n",
    "#         after_check_raw.to_excel(writer, sheet_name='검수 Raw', index=False)\n",
    "\n",
    "#     # 결과\n",
    "#     count_num += 1\n",
    "#     print(count_num,\". {} 의, 나라별 파일 생성이 완료되었습니다.\".format(country))"
   ]
  },
  {
   "cell_type": "code",
   "execution_count": null,
   "metadata": {},
   "outputs": [],
   "source": []
  },
  {
   "cell_type": "code",
   "execution_count": null,
   "metadata": {},
   "outputs": [],
   "source": []
  },
  {
   "cell_type": "code",
   "execution_count": null,
   "metadata": {},
   "outputs": [],
   "source": []
  },
  {
   "cell_type": "code",
   "execution_count": null,
   "metadata": {},
   "outputs": [],
   "source": []
  },
  {
   "cell_type": "code",
   "execution_count": null,
   "metadata": {},
   "outputs": [],
   "source": []
  }
 ],
 "metadata": {
  "kernelspec": {
   "display_name": "Python 3",
   "language": "python",
   "name": "python3"
  },
  "language_info": {
   "codemirror_mode": {
    "name": "ipython",
    "version": 3
   },
   "file_extension": ".py",
   "mimetype": "text/x-python",
   "name": "python",
   "nbconvert_exporter": "python",
   "pygments_lexer": "ipython3",
   "version": "3.7.3"
  }
 },
 "nbformat": 4,
 "nbformat_minor": 2
}
