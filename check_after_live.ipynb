{
 "cells": [
  {
   "cell_type": "code",
   "execution_count": 2,
   "metadata": {},
   "outputs": [],
   "source": [
    "import numpy as np\n",
    "import pandas as pd\n",
    "import openpyxl\n",
    "\n",
    "import warnings\n",
    "warnings.filterwarnings('ignore')"
   ]
  },
  {
   "cell_type": "markdown",
   "metadata": {},
   "source": [
    "## 매뉴얼\n",
    "\n",
    "1. 시작전 틀이 갖춰진 비어있는 엑셀 파일이 필요함.\n",
    "2. 해당 URL을 검수 Raw 파일의 URL에 넣는다.\n",
    "\n",
    "따옴표 같은건 못잡아냄\n",
    "twitter 이미지, twitter 카드, Schema(Breadcrumb) 은 글자가 있으면 O로 해놨음\n"
   ]
  },
  {
   "cell_type": "markdown",
   "metadata": {},
   "source": [
    "## 검수 국가 설정"
   ]
  },
  {
   "cell_type": "code",
   "execution_count": 3,
   "metadata": {},
   "outputs": [],
   "source": [
    "countrys = [\"AW\"]"
   ]
  },
  {
   "cell_type": "markdown",
   "metadata": {},
   "source": [
    "## 경로설정"
   ]
  },
  {
   "cell_type": "code",
   "execution_count": 4,
   "metadata": {},
   "outputs": [],
   "source": [
    "raw_address = \"F:/OneDrive/12. 라이브 이후 검수/Raw\"\n",
    "href_raw_address = \"F:/OneDrive/12. 라이브 이후 검수/Raw/Herflang RAW\"\n",
    "save_address = \"F:/OneDrive/12. 라이브 이후 검수\""
   ]
  },
  {
   "cell_type": "markdown",
   "metadata": {},
   "source": [
    "## 전처리(Raw 데이터 정리)"
   ]
  },
  {
   "cell_type": "code",
   "execution_count": 33,
   "metadata": {},
   "outputs": [
    {
     "name": "stdout",
     "output_type": "stream",
     "text": [
      "20 . AW 의, 검수 Raw 파일 생성이 완료되었습니다.\n"
     ]
    }
   ],
   "source": [
    "count_num = 0\n",
    "\n",
    "for country in countrys:\n",
    "    # 불러오기 1차(Raw, check Raw, ckeck)\n",
    "    after_raw = pd.read_excel(raw_address+\"/\"+\"2차, 3차 음성 검색 콘텐츠 라이브 이후 검수 (\"+\n",
    "                              country+\")_Raw.xlsx\")\n",
    "    \n",
    "    after_check = pd.read_excel(save_address+\"/\"+\"2차, 3차 음성 검색 콘텐츠 라이브 이후 검수 (\"\n",
    "                                +country+\").xlsx\", sheet_name =\"검수\")\n",
    "    \n",
    "    # 불러오기 2차\n",
    "    after_check_raw_wb = openpyxl.load_workbook(save_address+\"/\"+\n",
    "                                                \"2차, 3차 음성 검색 콘텐츠 라이브 이후 검수 (\"+country+\").xlsx\")\n",
    "    after_check_raw_ws = after_check_raw_wb['검수 Raw']\n",
    "    \n",
    "    # 전처리\n",
    "    for i in range(after_check.shape[0]):\n",
    "        if i < after_raw.shape[0]:\n",
    "            url_index = after_raw[after_check['URL'][i] == after_raw['Address']].index[0]\n",
    "            \n",
    "            # 1.URL\n",
    "            after_check_raw_ws['B'+str(i+2)] = after_raw['Address'][url_index]\n",
    "\n",
    "            # 2.URL 구조\n",
    "            after_check_raw_ws['C'+str(i+2)] = after_raw['Address'][url_index]\n",
    "\n",
    "            # 3.캐노니컬\n",
    "            after_check_raw_ws['D'+str(i+2)] = after_raw['Canonical Link Element 1'][url_index]\n",
    "\n",
    "            # 4.타이틀\n",
    "            after_check_raw_ws['E'+str(i+2)] = after_raw['Title 1'][url_index]\n",
    "\n",
    "            # 5.디스크립션\n",
    "            after_check_raw_ws['F'+str(i+2)] = after_raw['Meta Description 1'][url_index]\n",
    "            \n",
    "            # 6.OG\n",
    "            after_check_raw_ws['G'+str(i+2)] = after_raw['OG : Site Name 1'][url_index]\n",
    "            after_check_raw_ws['H'+str(i+2)] = after_raw['OG : Type 1'][url_index]\n",
    "            after_check_raw_ws['I'+str(i+2)] = after_raw['OG : Title 1'][url_index] \n",
    "            after_check_raw_ws['J'+str(i+2)] = after_raw['OG : Description 1'][url_index] \n",
    "            after_check_raw_ws['K'+str(i+2)] = after_raw['OG : URL 1'][url_index]\n",
    "\n",
    "            # 7.Twitter\n",
    "            after_check_raw_ws['L'+str(i+2)] = after_raw['Twitter : Site 1'][url_index]\n",
    "            after_check_raw_ws['M'+str(i+2)] = after_raw['Twitter : Title 1'][url_index]\n",
    "            after_check_raw_ws['N'+str(i+2)] = after_raw['Twitter : Description 1'][url_index]\n",
    "            after_check_raw_ws['O'+str(i+2)] = after_raw['Twitter : URL 1'][url_index]\n",
    "            after_check_raw_ws['P'+str(i+2)] = after_raw['Twitter : Image 1'][url_index]\n",
    "            after_check_raw_ws['Q'+str(i+2)] = after_raw['Twitter : Cards 1'][url_index]\n",
    "\n",
    "            # 8.Schema\n",
    "            after_check_raw_ws['R'+str(i+2)] = after_raw['Schema : Name 1'][url_index]\n",
    "            after_check_raw_ws['S'+str(i+2)] = after_raw['Schema : Description 1'][url_index]\n",
    "            after_check_raw_ws['T'+str(i+2)] = after_raw['Schema : URL 1'][url_index]\n",
    "            after_check_raw_ws['U'+str(i+2)] = after_raw['BreadcrumbList 1'][url_index]\n",
    "            after_check_raw_ws['V'+str(i+2)] = after_raw['Schema : Type Json 1'][url_index]\n",
    "\n",
    "            # 9.H tag\n",
    "            after_check_raw_ws['W'+str(i+2)] = after_raw['H1-1'][url_index]\n",
    "            after_check_raw_ws['X'+str(i+2)] = after_raw['H2-1'][url_index]\n",
    "            after_check_raw_ws['Y'+str(i+2)] = after_raw['H2-2'][url_index]\n",
    "            \n",
    "        else :\n",
    "            break\n",
    "            \n",
    "    # 저장\n",
    "    after_check_raw_wb.save(save_address+\"/\"+\"2차, 3차 음성 검색 콘텐츠 라이브 이후 검수 (\"+country+\").xlsx\")\n",
    "\n",
    "    # 결과\n",
    "    count_num += 1\n",
    "    print(count_num,\". {} 의, 검수 Raw 파일 생성이 완료되었습니다.\".format(country))"
   ]
  },
  {
   "cell_type": "code",
   "execution_count": null,
   "metadata": {},
   "outputs": [],
   "source": []
  },
  {
   "cell_type": "markdown",
   "metadata": {},
   "source": [
    "## 1. URL 구조(미완료)"
   ]
  },
  {
   "cell_type": "code",
   "execution_count": 32,
   "metadata": {},
   "outputs": [
    {
     "ename": "NameError",
     "evalue": "name 'url_after_chack_wb' is not defined",
     "output_type": "error",
     "traceback": [
      "\u001b[1;31m---------------------------------------------------------------------------\u001b[0m",
      "\u001b[1;31mNameError\u001b[0m                                 Traceback (most recent call last)",
      "\u001b[1;32m<ipython-input-32-201bcd98f374>\u001b[0m in \u001b[0;36m<module>\u001b[1;34m\u001b[0m\n\u001b[0;32m      9\u001b[0m     url_after_check_wb = openpyxl.load_workbook(save_address+\"/\"+\n\u001b[0;32m     10\u001b[0m                                                 \"2차, 3차 음성 검색 콘텐츠 라이브 이후 검수 (\"+country+\").xlsx\")\n\u001b[1;32m---> 11\u001b[1;33m     \u001b[0murl_after_check_ws\u001b[0m \u001b[1;33m=\u001b[0m \u001b[0murl_after_chack_wb\u001b[0m\u001b[1;33m[\u001b[0m\u001b[1;34m'검수'\u001b[0m\u001b[1;33m]\u001b[0m\u001b[1;33m\u001b[0m\u001b[1;33m\u001b[0m\u001b[0m\n\u001b[0m\u001b[0;32m     12\u001b[0m \u001b[1;33m\u001b[0m\u001b[0m\n\u001b[0;32m     13\u001b[0m     \u001b[1;31m# 검수\u001b[0m\u001b[1;33m\u001b[0m\u001b[1;33m\u001b[0m\u001b[1;33m\u001b[0m\u001b[0m\n",
      "\u001b[1;31mNameError\u001b[0m: name 'url_after_chack_wb' is not defined"
     ]
    }
   ],
   "source": [
    "any()\n",
    "\n",
    "\n",
    "count_num = 0\n",
    "\n",
    "for country in countrys:\n",
    "    \n",
    "    # 불러오기 1차\n",
    "    url_after_check_raw = pd.read_excel(save_address+\"/\"+\n",
    "                                        \"2차, 3차 음성 검색 콘텐츠 라이브 이후 검수 (\"+country+\").xlsx\",\n",
    "                                        sheet_name =\"검수 Raw\")\n",
    "    \n",
    "    # 불러오기 2차\n",
    "    url_after_check_wb = openpyxl.load_workbook(save_address+\"/\"+\n",
    "                                                 \"2차, 3차 음성 검색 콘텐츠 라이브 이후 검수 (\"+country+\").xlsx\")\n",
    "    url_after_check_ws = url_after_check_wb['검수']\n",
    "\n",
    "    # 검수\n",
    "    s_char=['~','`','@','\\']\n",
    "    if any(char in invalidChars for char in word):\n",
    "        print \"Invalid\"\n",
    "    else:\n",
    "        print \"Valid\"\n",
    "    \n",
    "    \n",
    "    \n",
    "    for i in range(url_after_check_raw.shape[0]):\n",
    "        url_equal = url_after_check_raw['URL'][i] == url_after_check_raw['캐노니컬'][i]\n",
    "        if url_equal == True: \n",
    "            url_after_check_ws['D'+str(i+2)] = \"O\"\n",
    "        else:\n",
    "            url_after_check_ws['D'+str(i+2)] = \"X\"\n",
    "            \n",
    "    # 저장\n",
    "    url_after_check_wb.save(save_address+\"/\"+\"2차, 3차 음성 검색 콘텐츠 라이브 이후 검수 (\"+country+\").xlsx\")\n",
    "    \n",
    "    # 결과\n",
    "    count_num += 1\n",
    "    print(count_num,\". {} 의, 캐노니컬 항목 검수가 완료되었습니다.\".format(country))"
   ]
  },
  {
   "cell_type": "code",
   "execution_count": 26,
   "metadata": {},
   "outputs": [
    {
     "data": {
      "text/plain": [
       "'https://www.kia.com/aw/discover-kia/ask/how-is-the-kia-seltos-interior-design.html'"
      ]
     },
     "execution_count": 26,
     "metadata": {},
     "output_type": "execute_result"
    }
   ],
   "source": [
    "after_check_raw['URL'][0]."
   ]
  },
  {
   "cell_type": "code",
   "execution_count": null,
   "metadata": {},
   "outputs": [],
   "source": []
  },
  {
   "cell_type": "code",
   "execution_count": null,
   "metadata": {},
   "outputs": [],
   "source": []
  },
  {
   "cell_type": "code",
   "execution_count": null,
   "metadata": {},
   "outputs": [],
   "source": []
  },
  {
   "cell_type": "markdown",
   "metadata": {},
   "source": [
    "## 2. 캐노니컬"
   ]
  },
  {
   "cell_type": "code",
   "execution_count": 109,
   "metadata": {},
   "outputs": [
    {
     "name": "stdout",
     "output_type": "stream",
     "text": [
      "1 . AW 의, 캐노니컬 항목 검수가 완료되었습니다.\n"
     ]
    }
   ],
   "source": [
    "count_num = 0\n",
    "\n",
    "for country in countrys:\n",
    "    \n",
    "    # 불러오기 1차\n",
    "    cano_after_check_raw = pd.read_excel(save_address+\"/\"+\n",
    "                                        \"2차, 3차 음성 검색 콘텐츠 라이브 이후 검수 (\"+country+\").xlsx\",\n",
    "                                        sheet_name =\"검수 Raw\")\n",
    "    \n",
    "    # 불러오기 2차\n",
    "    cano_after_check_wb = openpyxl.load_workbook(save_address+\"/\"+\n",
    "                                                 \"2차, 3차 음성 검색 콘텐츠 라이브 이후 검수 (\"+country+\").xlsx\")\n",
    "    cano_after_check_ws = cano_after_check_wb['검수']\n",
    "\n",
    "    # 검수\n",
    "    for i in range(cano_after_check_raw.shape[0]):\n",
    "        cano_equal = cano_after_check_raw['URL'][i] == cano_after_check_raw['캐노니컬'][i]\n",
    "        if cano_equal == True: \n",
    "            cano_after_check_ws['D'+str(i+2)] = \"O\"\n",
    "        else:\n",
    "            cano_after_check_ws['D'+str(i+2)] = \"X\"\n",
    "            \n",
    "    # 저장\n",
    "    cano_after_check_wb.save(save_address+\"/\"+\"2차, 3차 음성 검색 콘텐츠 라이브 이후 검수 (\"+country+\").xlsx\")\n",
    "    \n",
    "    # 결과\n",
    "    count_num += 1\n",
    "    print(count_num,\". {} 의, 캐노니컬 항목 검수가 완료되었습니다.\".format(country))"
   ]
  },
  {
   "cell_type": "markdown",
   "metadata": {},
   "source": [
    "## 3. 타이틀"
   ]
  },
  {
   "cell_type": "code",
   "execution_count": 111,
   "metadata": {},
   "outputs": [
    {
     "name": "stdout",
     "output_type": "stream",
     "text": [
      "1 . AW 의, 타이틀 항목 검수가 완료되었습니다.\n"
     ]
    }
   ],
   "source": [
    "count_num = 0\n",
    "\n",
    "for country in countrys:\n",
    "    \n",
    "    # 불러오기 1차\n",
    "    title_after_check_raw = pd.read_excel(save_address+\"/\"+\n",
    "                                        \"2차, 3차 음성 검색 콘텐츠 라이브 이후 검수 (\"+country+\").xlsx\",\n",
    "                                        sheet_name =\"검수 Raw\")\n",
    "    \n",
    "    # 불러오기 2차\n",
    "    title_after_check_wb = openpyxl.load_workbook(save_address+\"/\"+\n",
    "                                                 \"2차, 3차 음성 검색 콘텐츠 라이브 이후 검수 (\"+country+\").xlsx\")\n",
    "    title_after_check_ws = title_after_check_wb['검수']\n",
    "\n",
    "    # 검수\n",
    "    for i in range(title_after_check_raw.shape[0]):\n",
    "        title_equal = title_after_check_raw['URL'][i]\n",
    "        title_equal_1 = title_equal.replace(\"https://www.kia.com/aw/discover-kia/ask/\",\"\")\n",
    "        title_equal_2 = title_equal_1.replace(\".html\",\"\")\n",
    "        title_equal_3 = title_equal_2.replace(\"-\",\" \").lower()\n",
    "        if title_equal_3 in title_after_check_raw['타이틀'][i].lower(): \n",
    "            title_after_check_ws['E'+str(i+2)] = \"O\"\n",
    "        else:\n",
    "            title_after_check_ws['E'+str(i+2)] = \"X\"\n",
    "            \n",
    "    # 저장\n",
    "    title_after_check_wb.save(save_address+\"/\"+\"2차, 3차 음성 검색 콘텐츠 라이브 이후 검수 (\"+country+\").xlsx\")\n",
    "    \n",
    "    # 결과\n",
    "    count_num += 1\n",
    "    print(count_num,\". {} 의, 타이틀 항목 검수가 완료되었습니다.\".format(country))"
   ]
  },
  {
   "cell_type": "markdown",
   "metadata": {},
   "source": [
    "## 4. 디스크립션 - 직접 타이틀과 비교해서 진행해야 함"
   ]
  },
  {
   "cell_type": "markdown",
   "metadata": {},
   "source": [
    "## 5. OG(site name, Type, Title, Description, URL)"
   ]
  },
  {
   "cell_type": "code",
   "execution_count": 12,
   "metadata": {
    "scrolled": true
   },
   "outputs": [
    {
     "name": "stdout",
     "output_type": "stream",
     "text": [
      "1 . AW 의, OG 항목 검수가 완료되었습니다.\n"
     ]
    }
   ],
   "source": [
    "count_num = 0\n",
    "\n",
    "for country in countrys:\n",
    "    \n",
    "    # 불러오기 1차\n",
    "    og_after_check_raw = pd.read_excel(save_address+\"/\"+\n",
    "                                        \"2차, 3차 음성 검색 콘텐츠 라이브 이후 검수 (\"+country+\").xlsx\",\n",
    "                                        sheet_name =\"검수 Raw\")\n",
    "    \n",
    "    # 불러오기 2차\n",
    "    og_after_check_wb = openpyxl.load_workbook(save_address+\"/\"+\n",
    "                                                 \"2차, 3차 음성 검색 콘텐츠 라이브 이후 검수 (\"+country+\").xlsx\")\n",
    "    og_after_check_ws = og_after_check_wb['검수']\n",
    "\n",
    "    # Site name 검수\n",
    "    for i in range(og_after_check_raw.shape[0]):\n",
    "        if og_after_check_raw['OG(Site name)'][i].lower() in og_after_check_raw['타이틀'][i].lower():\n",
    "            og_after_check_ws['G'+str(i+2)] = \"O\"\n",
    "        else:\n",
    "            og_after_check_ws['G'+str(i+2)] = \"X\"\n",
    "            \n",
    "    # Type 검수\n",
    "    for i in range(og_after_check_raw.shape[0]):\n",
    "        if og_after_check_raw['OG(Type)'][i] == 'website':\n",
    "            og_after_check_ws['H'+str(i+2)] = \"O\"\n",
    "        else:\n",
    "            og_after_check_ws['H'+str(i+2)] = \"X\"\n",
    "    \n",
    "    # Title 검수\n",
    "    for i in range(og_after_check_raw.shape[0]):\n",
    "        if og_after_check_raw['OG(Title)'][i] == og_after_check_raw['타이틀'][i]:\n",
    "            og_after_check_ws['I'+str(i+2)] = \"O\"\n",
    "        else:\n",
    "            og_after_check_ws['I'+str(i+2)] = \"X\"\n",
    "    \n",
    "    # Description 검수\n",
    "    for i in range(og_after_check_raw.shape[0]):\n",
    "        if og_after_check_raw['OG(Description)'][i] == og_after_check_raw['디스크립션'][i]:\n",
    "            og_after_check_ws['J'+str(i+2)] = \"O\"\n",
    "        else:\n",
    "            og_after_check_ws['J'+str(i+2)] = \"X\"\n",
    "    \n",
    "    # URL 검수\n",
    "    for i in range(og_after_check_raw.shape[0]):\n",
    "        if og_after_check_raw['OG(URL)'][i] == og_after_check_raw['URL'][i]:\n",
    "            og_after_check_ws['K'+str(i+2)] = \"O\"\n",
    "        else:\n",
    "            og_after_check_ws['K'+str(i+2)] = \"X\"\n",
    "    \n",
    "    # 저장\n",
    "    og_after_check_wb.save(save_address+\"/\"+\"2차, 3차 음성 검색 콘텐츠 라이브 이후 검수 (\"+country+\").xlsx\")\n",
    "    \n",
    "    # 결과\n",
    "    count_num += 1\n",
    "    print(count_num,\". {} 의, OG 항목 검수가 완료되었습니다.\".format(country))"
   ]
  },
  {
   "cell_type": "markdown",
   "metadata": {},
   "source": [
    "## 6. Twitter(Site, Title, Description, URL, Image, Twitter Card)"
   ]
  },
  {
   "cell_type": "code",
   "execution_count": 16,
   "metadata": {},
   "outputs": [
    {
     "name": "stdout",
     "output_type": "stream",
     "text": [
      "1 . AW 의, twitter 항목 검수가 완료되었습니다.\n"
     ]
    }
   ],
   "source": [
    "count_num = 0\n",
    "\n",
    "for country in countrys:\n",
    "    \n",
    "    # 불러오기 1차\n",
    "    twitter_after_check_raw = pd.read_excel(save_address+\"/\"+\n",
    "                                        \"2차, 3차 음성 검색 콘텐츠 라이브 이후 검수 (\"+country+\").xlsx\",\n",
    "                                        sheet_name =\"검수 Raw\")\n",
    "    \n",
    "    # 불러오기 2차\n",
    "    twitter_after_check_wb = openpyxl.load_workbook(save_address+\"/\"+\n",
    "                                                 \"2차, 3차 음성 검색 콘텐츠 라이브 이후 검수 (\"+country+\").xlsx\")\n",
    "    twitter_after_check_ws = twitter_after_check_wb['검수']\n",
    "\n",
    "    # Site 검수\n",
    "    for i in range(twitter_after_check_raw.shape[0]):\n",
    "        if twitter_after_check_raw['Twitter(Site)'][i] in twitter_after_check_raw['타이틀'][i]:\n",
    "            twitter_after_check_ws['L'+str(i+2)] = \"O\"\n",
    "        else:\n",
    "            twitter_after_check_ws['L'+str(i+2)] = \"X\"\n",
    "            \n",
    "    # Title 검수\n",
    "    for i in range(twitter_after_check_raw.shape[0]):\n",
    "        if twitter_after_check_raw['Twitter(Title)'][i] == twitter_after_check_raw['타이틀'][i]:\n",
    "            twitter_after_check_ws['M'+str(i+2)] = \"O\"\n",
    "        else:\n",
    "            twitter_after_check_ws['M'+str(i+2)] = \"X\"\n",
    "    \n",
    "    # Description 검수\n",
    "    for i in range(twitter_after_check_raw.shape[0]):\n",
    "        if twitter_after_check_raw['Twitter(Description)'][i] == twitter_after_check_raw['디스크립션'][i]:\n",
    "            twitter_after_check_ws['N'+str(i+2)] = \"O\"\n",
    "        else:\n",
    "            twitter_after_check_ws['N'+str(i+2)] = \"X\"\n",
    "            \n",
    "    # URL 검수\n",
    "    for i in range(twitter_after_check_raw.shape[0]):\n",
    "        if twitter_after_check_raw['Twitter(URL)'][i] == twitter_after_check_raw['URL'][i]:\n",
    "            twitter_after_check_ws['O'+str(i+2)] = \"O\"\n",
    "        else:\n",
    "            twitter_after_check_ws['O'+str(i+2)] = \"X\"\n",
    "            \n",
    "    # Image 검수\n",
    "    for i in range(twitter_after_check_raw.shape[0]):\n",
    "        if twitter_after_check_raw['Twitter(Image)'][i] != '':\n",
    "            twitter_after_check_ws['P'+str(i+2)] = \"O\"\n",
    "        else:\n",
    "            twitter_after_check_ws['P'+str(i+2)] = \"X\"\n",
    "            \n",
    "    # Twitter Card\n",
    "    for i in range(twitter_after_check_raw.shape[0]):\n",
    "        if twitter_after_check_raw['Twitter(Twitter Card)'][i] != '':\n",
    "            twitter_after_check_ws['Q'+str(i+2)] = \"O\"\n",
    "        else:\n",
    "            twitter_after_check_ws['Q'+str(i+2)] = \"X\"\n",
    "    \n",
    "    # 저장\n",
    "    twitter_after_check_wb.save(save_address+\"/\"+\"2차, 3차 음성 검색 콘텐츠 라이브 이후 검수 (\"+country+\").xlsx\")\n",
    "    \n",
    "    # 결과\n",
    "    count_num += 1\n",
    "    print(count_num,\". {} 의, twitter 항목 검수가 완료되었습니다.\".format(country))"
   ]
  },
  {
   "cell_type": "markdown",
   "metadata": {},
   "source": [
    "## 7. Schema(Name, Description, URL, Breadcrumb, type)"
   ]
  },
  {
   "cell_type": "code",
   "execution_count": 17,
   "metadata": {},
   "outputs": [
    {
     "name": "stdout",
     "output_type": "stream",
     "text": [
      "1 . AW 의, schema 항목 검수가 완료되었습니다.\n"
     ]
    }
   ],
   "source": [
    "count_num = 0\n",
    "\n",
    "for country in countrys:\n",
    "    \n",
    "    # 불러오기 1차\n",
    "    schema_after_check_raw = pd.read_excel(save_address+\"/\"+\n",
    "                                        \"2차, 3차 음성 검색 콘텐츠 라이브 이후 검수 (\"+country+\").xlsx\",\n",
    "                                        sheet_name =\"검수 Raw\")\n",
    "    \n",
    "    # 불러오기 2차\n",
    "    schema_after_check_wb = openpyxl.load_workbook(save_address+\"/\"+\n",
    "                                                 \"2차, 3차 음성 검색 콘텐츠 라이브 이후 검수 (\"+country+\").xlsx\")\n",
    "    schema_after_check_ws = schema_after_check_wb['검수']\n",
    "\n",
    "    # Name 검수\n",
    "    for i in range(schema_after_check_raw.shape[0]):\n",
    "        if schema_after_check_raw['Schema(Name)'][i] == schema_after_check_raw['타이틀'][i]:\n",
    "            schema_after_check_ws['R'+str(i+2)] = \"O\"\n",
    "        else:\n",
    "            schema_after_check_ws['R'+str(i+2)] = \"X\"\n",
    "\n",
    "    # Description 검수\n",
    "    for i in range(schema_after_check_raw.shape[0]):\n",
    "        if schema_after_check_raw['Schema(Description)'][i] == schema_after_check_raw['디스크립션'][i]:\n",
    "            schema_after_check_ws['S'+str(i+2)] = \"O\"\n",
    "        else:\n",
    "            schema_after_check_ws['S'+str(i+2)] = \"X\"\n",
    "            \n",
    "    # URL 검수\n",
    "    for i in range(schema_after_check_raw.shape[0]):\n",
    "        if schema_after_check_raw['Schema(URL)'][i] == schema_after_check_raw['URL'][i]:\n",
    "            schema_after_check_ws['T'+str(i+2)] = \"O\"\n",
    "        else:\n",
    "            schema_after_check_ws['T'+str(i+2)] = \"X\"\n",
    "    \n",
    "    # Breadcrumb 검수\n",
    "    for i in range(schema_after_check_raw.shape[0]):\n",
    "        if schema_after_check_raw['Schema(Breadcrumb)'][i] != '':\n",
    "            schema_after_check_ws['U'+str(i+2)] = \"O\"\n",
    "        else:\n",
    "            schema_after_check_ws['U'+str(i+2)] = \"X\"\n",
    "    \n",
    "    # type 검수\n",
    "    for i in range(schema_after_check_raw.shape[0]):\n",
    "        if schema_after_check_raw['Schema(type)'][i] == 'WebPage':\n",
    "            schema_after_check_ws['V'+str(i+2)] = \"O\"\n",
    "        else:\n",
    "            schema_after_check_ws['V'+str(i+2)] = \"X\"\n",
    "    \n",
    "    # 저장\n",
    "    schema_after_check_wb.save(save_address+\"/\"+\"2차, 3차 음성 검색 콘텐츠 라이브 이후 검수 (\"+country+\").xlsx\")\n",
    "    \n",
    "    # 결과\n",
    "    count_num += 1\n",
    "    print(count_num,\". {} 의, schema 항목 검수가 완료되었습니다.\".format(country))"
   ]
  },
  {
   "cell_type": "markdown",
   "metadata": {},
   "source": [
    "## 8. H tag(H1, H2_1, H2_2) - 직접 싸이트에 들어가서 확인"
   ]
  },
  {
   "cell_type": "code",
   "execution_count": null,
   "metadata": {},
   "outputs": [],
   "source": [
    "count_num = 0\n",
    "\n",
    "for country in countrys:\n",
    "    \n",
    "    # 불러오기 1차\n",
    "    herf_after_check_raw = pd.read_excel(save_address+\"/\"+\n",
    "                                        \"2차, 3차 음성 검색 콘텐츠 라이브 이후 검수 (\"+country+\").xlsx\",\n",
    "                                        sheet_name =\"검수 Raw\")\n",
    "    herf\n",
    "    \n",
    "    # 불러오기 2차\n",
    "    herf_after_check_wb = openpyxl.load_workbook(save_address+\"/\"+\n",
    "                                                 \"2차, 3차 음성 검색 콘텐츠 라이브 이후 검수 (\"+country+\").xlsx\")\n",
    "    herf_after_check_ws = schema_after_check_wb['검수']\n"
   ]
  },
  {
   "cell_type": "markdown",
   "metadata": {},
   "source": [
    "## 9. Hreflang(preprocessing)"
   ]
  },
  {
   "cell_type": "code",
   "execution_count": 13,
   "metadata": {},
   "outputs": [
    {
     "ename": "KeyError",
     "evalue": "'Address'",
     "output_type": "error",
     "traceback": [
      "\u001b[1;31m---------------------------------------------------------------------------\u001b[0m",
      "\u001b[1;31mKeyError\u001b[0m                                  Traceback (most recent call last)",
      "\u001b[1;32m~\\Anaconda3\\lib\\site-packages\\pandas\\core\\indexes\\base.py\u001b[0m in \u001b[0;36mget_loc\u001b[1;34m(self, key, method, tolerance)\u001b[0m\n\u001b[0;32m   2656\u001b[0m             \u001b[1;32mtry\u001b[0m\u001b[1;33m:\u001b[0m\u001b[1;33m\u001b[0m\u001b[1;33m\u001b[0m\u001b[0m\n\u001b[1;32m-> 2657\u001b[1;33m                 \u001b[1;32mreturn\u001b[0m \u001b[0mself\u001b[0m\u001b[1;33m.\u001b[0m\u001b[0m_engine\u001b[0m\u001b[1;33m.\u001b[0m\u001b[0mget_loc\u001b[0m\u001b[1;33m(\u001b[0m\u001b[0mkey\u001b[0m\u001b[1;33m)\u001b[0m\u001b[1;33m\u001b[0m\u001b[1;33m\u001b[0m\u001b[0m\n\u001b[0m\u001b[0;32m   2658\u001b[0m             \u001b[1;32mexcept\u001b[0m \u001b[0mKeyError\u001b[0m\u001b[1;33m:\u001b[0m\u001b[1;33m\u001b[0m\u001b[1;33m\u001b[0m\u001b[0m\n",
      "\u001b[1;32mpandas/_libs/index.pyx\u001b[0m in \u001b[0;36mpandas._libs.index.IndexEngine.get_loc\u001b[1;34m()\u001b[0m\n",
      "\u001b[1;32mpandas/_libs/index.pyx\u001b[0m in \u001b[0;36mpandas._libs.index.IndexEngine.get_loc\u001b[1;34m()\u001b[0m\n",
      "\u001b[1;32mpandas/_libs/hashtable_class_helper.pxi\u001b[0m in \u001b[0;36mpandas._libs.hashtable.PyObjectHashTable.get_item\u001b[1;34m()\u001b[0m\n",
      "\u001b[1;32mpandas/_libs/hashtable_class_helper.pxi\u001b[0m in \u001b[0;36mpandas._libs.hashtable.PyObjectHashTable.get_item\u001b[1;34m()\u001b[0m\n",
      "\u001b[1;31mKeyError\u001b[0m: 'Address'",
      "\nDuring handling of the above exception, another exception occurred:\n",
      "\u001b[1;31mKeyError\u001b[0m                                  Traceback (most recent call last)",
      "\u001b[1;32m<ipython-input-13-c073d007f325>\u001b[0m in \u001b[0;36m<module>\u001b[1;34m\u001b[0m\n\u001b[0;32m     16\u001b[0m                                    sheet_name = \"hreflang 검수\")\n\u001b[0;32m     17\u001b[0m     \u001b[1;31m# columns 배열\u001b[0m\u001b[1;33m\u001b[0m\u001b[1;33m\u001b[0m\u001b[1;33m\u001b[0m\u001b[0m\n\u001b[1;32m---> 18\u001b[1;33m     \u001b[0mhref_after_raw_check\u001b[0m\u001b[1;33m[\u001b[0m\u001b[1;34m'Address'\u001b[0m\u001b[1;33m]\u001b[0m \u001b[1;33m=\u001b[0m \u001b[0mhref_after_raw\u001b[0m\u001b[1;33m[\u001b[0m\u001b[1;34m'Address'\u001b[0m\u001b[1;33m]\u001b[0m\u001b[1;33m\u001b[0m\u001b[1;33m\u001b[0m\u001b[0m\n\u001b[0m\u001b[0;32m     19\u001b[0m     \u001b[0mhref_after_raw_check\u001b[0m\u001b[1;33m[\u001b[0m\u001b[1;34m'Sitemap hreflang 1'\u001b[0m\u001b[1;33m]\u001b[0m \u001b[1;33m=\u001b[0m \u001b[0mhref_after_raw\u001b[0m\u001b[1;33m[\u001b[0m\u001b[1;34m'Sitemap hreflang 1'\u001b[0m\u001b[1;33m]\u001b[0m\u001b[1;33m\u001b[0m\u001b[1;33m\u001b[0m\u001b[0m\n\u001b[0;32m     20\u001b[0m     \u001b[0mhref_after_raw_check\u001b[0m\u001b[1;33m[\u001b[0m\u001b[1;34m'Sitemap hreflang 1 URL'\u001b[0m\u001b[1;33m]\u001b[0m \u001b[1;33m=\u001b[0m \u001b[0mhref_after_raw\u001b[0m\u001b[1;33m[\u001b[0m\u001b[1;34m'Sitemap hreflang 1 URL'\u001b[0m\u001b[1;33m]\u001b[0m\u001b[1;33m\u001b[0m\u001b[1;33m\u001b[0m\u001b[0m\n",
      "\u001b[1;32m~\\Anaconda3\\lib\\site-packages\\pandas\\core\\frame.py\u001b[0m in \u001b[0;36m__getitem__\u001b[1;34m(self, key)\u001b[0m\n\u001b[0;32m   2925\u001b[0m             \u001b[1;32mif\u001b[0m \u001b[0mself\u001b[0m\u001b[1;33m.\u001b[0m\u001b[0mcolumns\u001b[0m\u001b[1;33m.\u001b[0m\u001b[0mnlevels\u001b[0m \u001b[1;33m>\u001b[0m \u001b[1;36m1\u001b[0m\u001b[1;33m:\u001b[0m\u001b[1;33m\u001b[0m\u001b[1;33m\u001b[0m\u001b[0m\n\u001b[0;32m   2926\u001b[0m                 \u001b[1;32mreturn\u001b[0m \u001b[0mself\u001b[0m\u001b[1;33m.\u001b[0m\u001b[0m_getitem_multilevel\u001b[0m\u001b[1;33m(\u001b[0m\u001b[0mkey\u001b[0m\u001b[1;33m)\u001b[0m\u001b[1;33m\u001b[0m\u001b[1;33m\u001b[0m\u001b[0m\n\u001b[1;32m-> 2927\u001b[1;33m             \u001b[0mindexer\u001b[0m \u001b[1;33m=\u001b[0m \u001b[0mself\u001b[0m\u001b[1;33m.\u001b[0m\u001b[0mcolumns\u001b[0m\u001b[1;33m.\u001b[0m\u001b[0mget_loc\u001b[0m\u001b[1;33m(\u001b[0m\u001b[0mkey\u001b[0m\u001b[1;33m)\u001b[0m\u001b[1;33m\u001b[0m\u001b[1;33m\u001b[0m\u001b[0m\n\u001b[0m\u001b[0;32m   2928\u001b[0m             \u001b[1;32mif\u001b[0m \u001b[0mis_integer\u001b[0m\u001b[1;33m(\u001b[0m\u001b[0mindexer\u001b[0m\u001b[1;33m)\u001b[0m\u001b[1;33m:\u001b[0m\u001b[1;33m\u001b[0m\u001b[1;33m\u001b[0m\u001b[0m\n\u001b[0;32m   2929\u001b[0m                 \u001b[0mindexer\u001b[0m \u001b[1;33m=\u001b[0m \u001b[1;33m[\u001b[0m\u001b[0mindexer\u001b[0m\u001b[1;33m]\u001b[0m\u001b[1;33m\u001b[0m\u001b[1;33m\u001b[0m\u001b[0m\n",
      "\u001b[1;32m~\\Anaconda3\\lib\\site-packages\\pandas\\core\\indexes\\base.py\u001b[0m in \u001b[0;36mget_loc\u001b[1;34m(self, key, method, tolerance)\u001b[0m\n\u001b[0;32m   2657\u001b[0m                 \u001b[1;32mreturn\u001b[0m \u001b[0mself\u001b[0m\u001b[1;33m.\u001b[0m\u001b[0m_engine\u001b[0m\u001b[1;33m.\u001b[0m\u001b[0mget_loc\u001b[0m\u001b[1;33m(\u001b[0m\u001b[0mkey\u001b[0m\u001b[1;33m)\u001b[0m\u001b[1;33m\u001b[0m\u001b[1;33m\u001b[0m\u001b[0m\n\u001b[0;32m   2658\u001b[0m             \u001b[1;32mexcept\u001b[0m \u001b[0mKeyError\u001b[0m\u001b[1;33m:\u001b[0m\u001b[1;33m\u001b[0m\u001b[1;33m\u001b[0m\u001b[0m\n\u001b[1;32m-> 2659\u001b[1;33m                 \u001b[1;32mreturn\u001b[0m \u001b[0mself\u001b[0m\u001b[1;33m.\u001b[0m\u001b[0m_engine\u001b[0m\u001b[1;33m.\u001b[0m\u001b[0mget_loc\u001b[0m\u001b[1;33m(\u001b[0m\u001b[0mself\u001b[0m\u001b[1;33m.\u001b[0m\u001b[0m_maybe_cast_indexer\u001b[0m\u001b[1;33m(\u001b[0m\u001b[0mkey\u001b[0m\u001b[1;33m)\u001b[0m\u001b[1;33m)\u001b[0m\u001b[1;33m\u001b[0m\u001b[1;33m\u001b[0m\u001b[0m\n\u001b[0m\u001b[0;32m   2660\u001b[0m         \u001b[0mindexer\u001b[0m \u001b[1;33m=\u001b[0m \u001b[0mself\u001b[0m\u001b[1;33m.\u001b[0m\u001b[0mget_indexer\u001b[0m\u001b[1;33m(\u001b[0m\u001b[1;33m[\u001b[0m\u001b[0mkey\u001b[0m\u001b[1;33m]\u001b[0m\u001b[1;33m,\u001b[0m \u001b[0mmethod\u001b[0m\u001b[1;33m=\u001b[0m\u001b[0mmethod\u001b[0m\u001b[1;33m,\u001b[0m \u001b[0mtolerance\u001b[0m\u001b[1;33m=\u001b[0m\u001b[0mtolerance\u001b[0m\u001b[1;33m)\u001b[0m\u001b[1;33m\u001b[0m\u001b[1;33m\u001b[0m\u001b[0m\n\u001b[0;32m   2661\u001b[0m         \u001b[1;32mif\u001b[0m \u001b[0mindexer\u001b[0m\u001b[1;33m.\u001b[0m\u001b[0mndim\u001b[0m \u001b[1;33m>\u001b[0m \u001b[1;36m1\u001b[0m \u001b[1;32mor\u001b[0m \u001b[0mindexer\u001b[0m\u001b[1;33m.\u001b[0m\u001b[0msize\u001b[0m \u001b[1;33m>\u001b[0m \u001b[1;36m1\u001b[0m\u001b[1;33m:\u001b[0m\u001b[1;33m\u001b[0m\u001b[1;33m\u001b[0m\u001b[0m\n",
      "\u001b[1;32mpandas/_libs/index.pyx\u001b[0m in \u001b[0;36mpandas._libs.index.IndexEngine.get_loc\u001b[1;34m()\u001b[0m\n",
      "\u001b[1;32mpandas/_libs/index.pyx\u001b[0m in \u001b[0;36mpandas._libs.index.IndexEngine.get_loc\u001b[1;34m()\u001b[0m\n",
      "\u001b[1;32mpandas/_libs/hashtable_class_helper.pxi\u001b[0m in \u001b[0;36mpandas._libs.hashtable.PyObjectHashTable.get_item\u001b[1;34m()\u001b[0m\n",
      "\u001b[1;32mpandas/_libs/hashtable_class_helper.pxi\u001b[0m in \u001b[0;36mpandas._libs.hashtable.PyObjectHashTable.get_item\u001b[1;34m()\u001b[0m\n",
      "\u001b[1;31mKeyError\u001b[0m: 'Address'"
     ]
    }
   ],
   "source": [
    "count_num = 0\n",
    "\n",
    "for country in countrys:\n",
    "    # 불러오기 1차\n",
    "    href_after_raw_wb = openpyxl.load_workbook(href_raw_address+\"/\"+country+\" hreflang_all_raw.xlsx\")\n",
    "    \n",
    "    # hreflang 검수 sheet 만들기\n",
    "    href_after_raw_check_ws = href_after_raw_wb.create_sheet('hreflang 검수', 0)\n",
    "    \n",
    "    # 저장 1차\n",
    "    href_after_raw_wb.save(href_raw_address+\"/\"+country+\" hreflang_all_raw.xlsx\")\n",
    "\n",
    "    # 불러오기 2차(href Raw, hreflang 검수)\n",
    "    href_after_raw = pd.read_excel(href_raw_address+\"/\"+country+\" hreflang_all_raw.xlsx\", sheet_name = \"1 - All\")\n",
    "    href_after_raw = pd.read_excel(href_raw_address+\"/\"+country+\" hreflang_all_raw.xlsx\",\n",
    "                                   sheet_name = \"hreflang 검수\")\n",
    "    # columns 배열\n",
    "    href_after_raw_check['Address'] = href_after_raw['Address']\n",
    "    href_after_raw_check['Sitemap hreflang 1'] = href_after_raw['Sitemap hreflang 1']\n",
    "    href_after_raw_check['Sitemap hreflang 1 URL'] = href_after_raw['Sitemap hreflang 1 URL']\n",
    "    href_after_raw_check['hreflang pre 1'] = ''\n",
    "    href_after_raw_check['Address pre 1'] = ''\n",
    "    href_after_raw_check['Address = hreflang 1'] = ''\n",
    "    \n",
    "    \n",
    "    # 저장\n",
    "    href_after_raw_check.to_excel(href_raw_address+\"/\"+country+\" hreflang_all_raw_2.xlsx\",\n",
    "                                  sheet_name='hreflang 검수')\n",
    "    \n",
    "\n",
    "    \n",
    "    \n",
    "    # \n",
    "    \n",
    "    \n",
    "    \n",
    "    \n",
    "    \n",
    "    \n",
    "    \n",
    "    \n",
    "    \n",
    "    \n",
    "    \n",
    "#     # 불러오기 2차\n",
    "    \n",
    "#     href_after_check_wb = openpyxl.load_workbook(save_address+\"/\"+\n",
    "#                                                  \"2차, 3차 음성 검색 콘텐츠 라이브 이후 검수 (\"+country+\").xlsx\")\n",
    "#     href_after_check_ws = schema_after_check_wb['검수']\n",
    "    \n",
    "#     href_after_raw_wb = openpyxl.load_workbook(href_raw_address+\"/\"+country+\" hreflang_all_raw.xlsx\")\n",
    "#     href_after_raw_ws = href_after_raw_wb['1 - All']\n",
    "    \n",
    "\n",
    "    \n",
    "\n",
    "#     # columns 정렬\n",
    "    \n",
    "#     href_after_raw['Address'] = href_after_raw['Address']\n",
    "    \n",
    "    \n",
    "    \n",
    "    \n",
    "    \n",
    "    "
   ]
  },
  {
   "cell_type": "code",
   "execution_count": null,
   "metadata": {},
   "outputs": [],
   "source": []
  },
  {
   "cell_type": "code",
   "execution_count": null,
   "metadata": {},
   "outputs": [],
   "source": []
  },
  {
   "cell_type": "code",
   "execution_count": null,
   "metadata": {},
   "outputs": [],
   "source": []
  },
  {
   "cell_type": "code",
   "execution_count": null,
   "metadata": {},
   "outputs": [],
   "source": []
  },
  {
   "cell_type": "code",
   "execution_count": null,
   "metadata": {},
   "outputs": [],
   "source": []
  },
  {
   "cell_type": "code",
   "execution_count": null,
   "metadata": {},
   "outputs": [],
   "source": []
  },
  {
   "cell_type": "code",
   "execution_count": null,
   "metadata": {},
   "outputs": [],
   "source": []
  },
  {
   "cell_type": "code",
   "execution_count": null,
   "metadata": {},
   "outputs": [],
   "source": []
  },
  {
   "cell_type": "markdown",
   "metadata": {},
   "source": [
    "## 10. CTA - 직접 싸이트에 들어가서 확인"
   ]
  },
  {
   "cell_type": "markdown",
   "metadata": {},
   "source": [
    "## 11. 내비게이션 버튼 - 직접 싸이트에 들어가서 확인"
   ]
  },
  {
   "cell_type": "markdown",
   "metadata": {},
   "source": [
    "## 12. 콘텐츠"
   ]
  },
  {
   "cell_type": "code",
   "execution_count": null,
   "metadata": {},
   "outputs": [],
   "source": []
  },
  {
   "cell_type": "code",
   "execution_count": null,
   "metadata": {},
   "outputs": [],
   "source": []
  },
  {
   "cell_type": "code",
   "execution_count": null,
   "metadata": {},
   "outputs": [],
   "source": []
  },
  {
   "cell_type": "code",
   "execution_count": null,
   "metadata": {},
   "outputs": [],
   "source": []
  },
  {
   "cell_type": "code",
   "execution_count": null,
   "metadata": {},
   "outputs": [],
   "source": []
  },
  {
   "cell_type": "code",
   "execution_count": null,
   "metadata": {},
   "outputs": [],
   "source": []
  },
  {
   "cell_type": "code",
   "execution_count": null,
   "metadata": {},
   "outputs": [],
   "source": []
  },
  {
   "cell_type": "code",
   "execution_count": null,
   "metadata": {},
   "outputs": [],
   "source": []
  },
  {
   "cell_type": "code",
   "execution_count": null,
   "metadata": {},
   "outputs": [],
   "source": []
  },
  {
   "cell_type": "code",
   "execution_count": null,
   "metadata": {},
   "outputs": [],
   "source": []
  }
 ],
 "metadata": {
  "kernelspec": {
   "display_name": "Python 3",
   "language": "python",
   "name": "python3"
  },
  "language_info": {
   "codemirror_mode": {
    "name": "ipython",
    "version": 3
   },
   "file_extension": ".py",
   "mimetype": "text/x-python",
   "name": "python",
   "nbconvert_exporter": "python",
   "pygments_lexer": "ipython3",
   "version": "3.7.3"
  }
 },
 "nbformat": 4,
 "nbformat_minor": 2
}
